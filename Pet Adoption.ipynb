{
 "cells": [
  {
   "cell_type": "code",
   "execution_count": 1,
   "metadata": {},
   "outputs": [],
   "source": [
    "import numpy as np\n",
    "import pandas as pd\n",
    "import matplotlib.pyplot as plt\n",
    "%matplotlib inline\n",
    "import seaborn as sns"
   ]
  },
  {
   "cell_type": "code",
   "execution_count": 115,
   "metadata": {},
   "outputs": [],
   "source": [
    "data = pd.read_csv(\"C:/Users/KIIT/Downloads/pet adoption challenge/Dataset/train.csv\")"
   ]
  },
  {
   "cell_type": "code",
   "execution_count": 87,
   "metadata": {},
   "outputs": [
    {
     "data": {
      "text/html": [
       "<div>\n",
       "<style scoped>\n",
       "    .dataframe tbody tr th:only-of-type {\n",
       "        vertical-align: middle;\n",
       "    }\n",
       "\n",
       "    .dataframe tbody tr th {\n",
       "        vertical-align: top;\n",
       "    }\n",
       "\n",
       "    .dataframe thead th {\n",
       "        text-align: right;\n",
       "    }\n",
       "</style>\n",
       "<table border=\"1\" class=\"dataframe\">\n",
       "  <thead>\n",
       "    <tr style=\"text-align: right;\">\n",
       "      <th></th>\n",
       "      <th>pet_id</th>\n",
       "      <th>issue_date</th>\n",
       "      <th>listing_date</th>\n",
       "      <th>condition</th>\n",
       "      <th>color_type</th>\n",
       "      <th>length(m)</th>\n",
       "      <th>height(cm)</th>\n",
       "      <th>X1</th>\n",
       "      <th>X2</th>\n",
       "      <th>breed_category</th>\n",
       "      <th>pet_category</th>\n",
       "    </tr>\n",
       "  </thead>\n",
       "  <tbody>\n",
       "    <tr>\n",
       "      <th>0</th>\n",
       "      <td>ANSL_69903</td>\n",
       "      <td>2016-07-10 00:00:00</td>\n",
       "      <td>2016-09-21 16:25:00</td>\n",
       "      <td>2.0</td>\n",
       "      <td>Brown Tabby</td>\n",
       "      <td>0.80</td>\n",
       "      <td>7.78</td>\n",
       "      <td>13</td>\n",
       "      <td>9</td>\n",
       "      <td>0.0</td>\n",
       "      <td>1</td>\n",
       "    </tr>\n",
       "    <tr>\n",
       "      <th>1</th>\n",
       "      <td>ANSL_66892</td>\n",
       "      <td>2013-11-21 00:00:00</td>\n",
       "      <td>2018-12-27 17:47:00</td>\n",
       "      <td>1.0</td>\n",
       "      <td>White</td>\n",
       "      <td>0.72</td>\n",
       "      <td>14.19</td>\n",
       "      <td>13</td>\n",
       "      <td>9</td>\n",
       "      <td>0.0</td>\n",
       "      <td>2</td>\n",
       "    </tr>\n",
       "    <tr>\n",
       "      <th>2</th>\n",
       "      <td>ANSL_69750</td>\n",
       "      <td>2014-09-28 00:00:00</td>\n",
       "      <td>2016-10-19 08:24:00</td>\n",
       "      <td>NaN</td>\n",
       "      <td>Brown</td>\n",
       "      <td>0.15</td>\n",
       "      <td>40.90</td>\n",
       "      <td>15</td>\n",
       "      <td>4</td>\n",
       "      <td>2.0</td>\n",
       "      <td>4</td>\n",
       "    </tr>\n",
       "    <tr>\n",
       "      <th>3</th>\n",
       "      <td>ANSL_71623</td>\n",
       "      <td>2016-12-31 00:00:00</td>\n",
       "      <td>2019-01-25 18:30:00</td>\n",
       "      <td>1.0</td>\n",
       "      <td>White</td>\n",
       "      <td>0.62</td>\n",
       "      <td>17.82</td>\n",
       "      <td>0</td>\n",
       "      <td>1</td>\n",
       "      <td>0.0</td>\n",
       "      <td>2</td>\n",
       "    </tr>\n",
       "    <tr>\n",
       "      <th>4</th>\n",
       "      <td>ANSL_57969</td>\n",
       "      <td>2017-09-28 00:00:00</td>\n",
       "      <td>2017-11-19 09:38:00</td>\n",
       "      <td>2.0</td>\n",
       "      <td>Black</td>\n",
       "      <td>0.50</td>\n",
       "      <td>11.06</td>\n",
       "      <td>18</td>\n",
       "      <td>4</td>\n",
       "      <td>0.0</td>\n",
       "      <td>1</td>\n",
       "    </tr>\n",
       "  </tbody>\n",
       "</table>\n",
       "</div>"
      ],
      "text/plain": [
       "       pet_id           issue_date         listing_date  condition  \\\n",
       "0  ANSL_69903  2016-07-10 00:00:00  2016-09-21 16:25:00        2.0   \n",
       "1  ANSL_66892  2013-11-21 00:00:00  2018-12-27 17:47:00        1.0   \n",
       "2  ANSL_69750  2014-09-28 00:00:00  2016-10-19 08:24:00        NaN   \n",
       "3  ANSL_71623  2016-12-31 00:00:00  2019-01-25 18:30:00        1.0   \n",
       "4  ANSL_57969  2017-09-28 00:00:00  2017-11-19 09:38:00        2.0   \n",
       "\n",
       "    color_type  length(m)  height(cm)  X1  X2  breed_category  pet_category  \n",
       "0  Brown Tabby       0.80        7.78  13   9             0.0             1  \n",
       "1        White       0.72       14.19  13   9             0.0             2  \n",
       "2        Brown       0.15       40.90  15   4             2.0             4  \n",
       "3        White       0.62       17.82   0   1             0.0             2  \n",
       "4        Black       0.50       11.06  18   4             0.0             1  "
      ]
     },
     "execution_count": 87,
     "metadata": {},
     "output_type": "execute_result"
    }
   ],
   "source": [
    "data.head()"
   ]
  },
  {
   "cell_type": "code",
   "execution_count": 88,
   "metadata": {},
   "outputs": [],
   "source": [
    "data['issue_date'] = pd.to_datetime(data['issue_date'])\n",
    "\n",
    "data['listing_date'] = pd.to_datetime(data['listing_date'])\n",
    "\n",
    "data['issue_month'] = data['issue_date'].dt.month\n",
    "data['issue_year'] = data['issue_date'].dt.year\n",
    "data['listing_month'] = data['listing_date'].dt.month\n",
    "data['listing_year'] = data['listing_date'].dt.year"
   ]
  },
  {
   "cell_type": "code",
   "execution_count": 89,
   "metadata": {},
   "outputs": [],
   "source": [
    "for i in range(len(data['color_type'])):\n",
    "    #print(i)\n",
    "    d = data.loc[i,'color_type']\n",
    "    da = data[data['color_type'] == d]\n",
    "    data.loc[i,'breed_0'] = len(da[da['breed_category'] == 0]['pet_id'])/len(da['pet_id'])\n",
    "    data.loc[i,'breed_1'] = len(da[da['breed_category'] == 1]['pet_id'])/len(da['pet_id'])\n",
    "    data.loc[i,'pet_1'] =  len(da[da['pet_category'] == 1]['pet_id'])/len(da['pet_id'])\n",
    "    data.loc[i,'pet_2'] = len(da[da['pet_category'] == 2]['pet_id'])/len(da['pet_id'])\n",
    "    data.loc[i,'pet_4'] = len(da[da['pet_category'] == 4]['pet_id'])/len(da['pet_id'])\n",
    "    data.loc[i,'pet_0'] = len(da[da['pet_category'] == 0]['pet_id'])/len(da['pet_id'])"
   ]
  },
  {
   "cell_type": "code",
   "execution_count": 90,
   "metadata": {},
   "outputs": [
    {
     "data": {
      "text/html": [
       "<div>\n",
       "<style scoped>\n",
       "    .dataframe tbody tr th:only-of-type {\n",
       "        vertical-align: middle;\n",
       "    }\n",
       "\n",
       "    .dataframe tbody tr th {\n",
       "        vertical-align: top;\n",
       "    }\n",
       "\n",
       "    .dataframe thead th {\n",
       "        text-align: right;\n",
       "    }\n",
       "</style>\n",
       "<table border=\"1\" class=\"dataframe\">\n",
       "  <thead>\n",
       "    <tr style=\"text-align: right;\">\n",
       "      <th></th>\n",
       "      <th>condition</th>\n",
       "      <th>length(m)</th>\n",
       "      <th>height(cm)</th>\n",
       "      <th>X1</th>\n",
       "      <th>X2</th>\n",
       "      <th>breed_category</th>\n",
       "      <th>pet_category</th>\n",
       "      <th>issue_month</th>\n",
       "      <th>issue_year</th>\n",
       "      <th>listing_month</th>\n",
       "      <th>...</th>\n",
       "      <th>Silver Lynx Point</th>\n",
       "      <th>Silver Tabby</th>\n",
       "      <th>Tan</th>\n",
       "      <th>Torbie</th>\n",
       "      <th>Tortie</th>\n",
       "      <th>Tortie Point</th>\n",
       "      <th>Tricolor</th>\n",
       "      <th>White</th>\n",
       "      <th>Yellow</th>\n",
       "      <th>Yellow Brindle</th>\n",
       "    </tr>\n",
       "  </thead>\n",
       "  <tbody>\n",
       "    <tr>\n",
       "      <th>0</th>\n",
       "      <td>2.0</td>\n",
       "      <td>0.80</td>\n",
       "      <td>7.78</td>\n",
       "      <td>13</td>\n",
       "      <td>9</td>\n",
       "      <td>0.0</td>\n",
       "      <td>1</td>\n",
       "      <td>7</td>\n",
       "      <td>2016</td>\n",
       "      <td>9</td>\n",
       "      <td>...</td>\n",
       "      <td>0</td>\n",
       "      <td>0</td>\n",
       "      <td>0</td>\n",
       "      <td>0</td>\n",
       "      <td>0</td>\n",
       "      <td>0</td>\n",
       "      <td>0</td>\n",
       "      <td>0</td>\n",
       "      <td>0</td>\n",
       "      <td>0</td>\n",
       "    </tr>\n",
       "    <tr>\n",
       "      <th>1</th>\n",
       "      <td>1.0</td>\n",
       "      <td>0.72</td>\n",
       "      <td>14.19</td>\n",
       "      <td>13</td>\n",
       "      <td>9</td>\n",
       "      <td>0.0</td>\n",
       "      <td>2</td>\n",
       "      <td>11</td>\n",
       "      <td>2013</td>\n",
       "      <td>12</td>\n",
       "      <td>...</td>\n",
       "      <td>0</td>\n",
       "      <td>0</td>\n",
       "      <td>0</td>\n",
       "      <td>0</td>\n",
       "      <td>0</td>\n",
       "      <td>0</td>\n",
       "      <td>0</td>\n",
       "      <td>1</td>\n",
       "      <td>0</td>\n",
       "      <td>0</td>\n",
       "    </tr>\n",
       "    <tr>\n",
       "      <th>2</th>\n",
       "      <td>NaN</td>\n",
       "      <td>0.15</td>\n",
       "      <td>40.90</td>\n",
       "      <td>15</td>\n",
       "      <td>4</td>\n",
       "      <td>2.0</td>\n",
       "      <td>4</td>\n",
       "      <td>9</td>\n",
       "      <td>2014</td>\n",
       "      <td>10</td>\n",
       "      <td>...</td>\n",
       "      <td>0</td>\n",
       "      <td>0</td>\n",
       "      <td>0</td>\n",
       "      <td>0</td>\n",
       "      <td>0</td>\n",
       "      <td>0</td>\n",
       "      <td>0</td>\n",
       "      <td>0</td>\n",
       "      <td>0</td>\n",
       "      <td>0</td>\n",
       "    </tr>\n",
       "    <tr>\n",
       "      <th>3</th>\n",
       "      <td>1.0</td>\n",
       "      <td>0.62</td>\n",
       "      <td>17.82</td>\n",
       "      <td>0</td>\n",
       "      <td>1</td>\n",
       "      <td>0.0</td>\n",
       "      <td>2</td>\n",
       "      <td>12</td>\n",
       "      <td>2016</td>\n",
       "      <td>1</td>\n",
       "      <td>...</td>\n",
       "      <td>0</td>\n",
       "      <td>0</td>\n",
       "      <td>0</td>\n",
       "      <td>0</td>\n",
       "      <td>0</td>\n",
       "      <td>0</td>\n",
       "      <td>0</td>\n",
       "      <td>1</td>\n",
       "      <td>0</td>\n",
       "      <td>0</td>\n",
       "    </tr>\n",
       "    <tr>\n",
       "      <th>4</th>\n",
       "      <td>2.0</td>\n",
       "      <td>0.50</td>\n",
       "      <td>11.06</td>\n",
       "      <td>18</td>\n",
       "      <td>4</td>\n",
       "      <td>0.0</td>\n",
       "      <td>1</td>\n",
       "      <td>9</td>\n",
       "      <td>2017</td>\n",
       "      <td>11</td>\n",
       "      <td>...</td>\n",
       "      <td>0</td>\n",
       "      <td>0</td>\n",
       "      <td>0</td>\n",
       "      <td>0</td>\n",
       "      <td>0</td>\n",
       "      <td>0</td>\n",
       "      <td>0</td>\n",
       "      <td>0</td>\n",
       "      <td>0</td>\n",
       "      <td>0</td>\n",
       "    </tr>\n",
       "  </tbody>\n",
       "</table>\n",
       "<p>5 rows × 73 columns</p>\n",
       "</div>"
      ],
      "text/plain": [
       "   condition  length(m)  height(cm)  X1  X2  breed_category  pet_category  \\\n",
       "0        2.0       0.80        7.78  13   9             0.0             1   \n",
       "1        1.0       0.72       14.19  13   9             0.0             2   \n",
       "2        NaN       0.15       40.90  15   4             2.0             4   \n",
       "3        1.0       0.62       17.82   0   1             0.0             2   \n",
       "4        2.0       0.50       11.06  18   4             0.0             1   \n",
       "\n",
       "   issue_month  issue_year  listing_month  ...  Silver Lynx Point  \\\n",
       "0            7        2016              9  ...                  0   \n",
       "1           11        2013             12  ...                  0   \n",
       "2            9        2014             10  ...                  0   \n",
       "3           12        2016              1  ...                  0   \n",
       "4            9        2017             11  ...                  0   \n",
       "\n",
       "   Silver Tabby  Tan  Torbie  Tortie  Tortie Point  Tricolor  White  Yellow  \\\n",
       "0             0    0       0       0             0         0      0       0   \n",
       "1             0    0       0       0             0         0      1       0   \n",
       "2             0    0       0       0             0         0      0       0   \n",
       "3             0    0       0       0             0         0      1       0   \n",
       "4             0    0       0       0             0         0      0       0   \n",
       "\n",
       "   Yellow Brindle  \n",
       "0               0  \n",
       "1               0  \n",
       "2               0  \n",
       "3               0  \n",
       "4               0  \n",
       "\n",
       "[5 rows x 73 columns]"
      ]
     },
     "execution_count": 90,
     "metadata": {},
     "output_type": "execute_result"
    }
   ],
   "source": [
    "data.drop(['pet_id','issue_date','listing_date'],axis=1,inplace=True)\n",
    "\n",
    "data['color_type'] = data['color_type'].astype('category')\n",
    "one_hot_encoded = pd.get_dummies(data['color_type'])\n",
    "\n",
    "data = data.drop('color_type', axis=1)\n",
    "\n",
    "\n",
    "data = pd.concat([data, one_hot_encoded], axis=1)\n",
    "data.head()"
   ]
  },
  {
   "cell_type": "code",
   "execution_count": 91,
   "metadata": {},
   "outputs": [],
   "source": [
    "dat = data.dropna()"
   ]
  },
  {
   "cell_type": "code",
   "execution_count": 92,
   "metadata": {},
   "outputs": [
    {
     "data": {
      "text/plain": [
       "KNeighborsClassifier(algorithm='auto', leaf_size=30, metric='minkowski',\n",
       "                     metric_params=None, n_jobs=None, n_neighbors=5, p=2,\n",
       "                     weights='uniform')"
      ]
     },
     "execution_count": 92,
     "metadata": {},
     "output_type": "execute_result"
    }
   ],
   "source": [
    "from sklearn.neighbors import KNeighborsClassifier\n",
    "knn = KNeighborsClassifier()\n",
    "knn.fit(dat.drop('condition',axis=1),dat['condition'])"
   ]
  },
  {
   "cell_type": "code",
   "execution_count": 93,
   "metadata": {},
   "outputs": [],
   "source": [
    "for i in range(len(data['X1'])):\n",
    "    if(np.isnan(data.loc[i,'condition'])):\n",
    "        data.loc[i,'condition'] = knn.predict(data[i:i+1].drop('condition',axis=1))[0]"
   ]
  },
  {
   "cell_type": "code",
   "execution_count": null,
   "metadata": {},
   "outputs": [],
   "source": [
    "data.head()"
   ]
  },
  {
   "cell_type": "code",
   "execution_count": 94,
   "metadata": {},
   "outputs": [],
   "source": [
    "data['Colm1'] = (data['X1'] + data['X2'])**2"
   ]
  },
  {
   "cell_type": "code",
   "execution_count": 95,
   "metadata": {},
   "outputs": [],
   "source": [
    "data['ratio'] = data['length(m)']*100/data['height(cm)']"
   ]
  },
  {
   "cell_type": "code",
   "execution_count": 17,
   "metadata": {},
   "outputs": [],
   "source": [
    "from sklearn.preprocessing import LabelEncoder\n",
    "from sklearn.preprocessing import StandardScaler\n",
    "from sklearn.preprocessing import MinMaxScaler\n",
    "from scipy import stats\n",
    "import pylab"
   ]
  },
  {
   "cell_type": "code",
   "execution_count": 18,
   "metadata": {},
   "outputs": [],
   "source": [
    "def masterplot(data,col):\n",
    "    plt.figure(figsize=(20,5))\n",
    "    plt.subplot(1,3,1)\n",
    "    sns.distplot(data[col])\n",
    "    \n",
    "    plt.subplot(1,3,2)\n",
    "    stats.probplot(data[col],dist='norm',plot=pylab)\n",
    "    \n",
    "    plt.subplot(1,3,3)\n",
    "    sns.boxplot(y=data[col])\n",
    "    \n",
    "def log_master(data,col):\n",
    "    plt.figure(figsize=(20,5))\n",
    "    plt.subplot(1,3,1)\n",
    "    sns.distplot(np.log(data[col]))\n",
    "    \n",
    "    plt.subplot(1,3,2)\n",
    "    stats.probplot(np.log(data[col]),dist='norm',plot=pylab)\n",
    "    \n",
    "    plt.subplot(1,3,3)\n",
    "    sns.boxplot(y=np.log(data[col]))\n",
    "    \n",
    "def reciprocal_master(data,col):\n",
    "    plt.figure(figsize=(20,5))\n",
    "    plt.subplot(1,3,1)\n",
    "    sns.distplot(1/data[col])\n",
    "    \n",
    "    plt.subplot(1,3,2)\n",
    "    stats.probplot(1/data[col],dist='norm',plot=pylab)\n",
    "    \n",
    "    plt.subplot(1,3,3)\n",
    "    sns.boxplot(y=1/data[col])\n",
    "    \n",
    "\n",
    "def squareroot_master(data,col):\n",
    "    plt.figure(figsize=(20,5))\n",
    "    plt.subplot(1,3,1)\n",
    "    sns.distplot(np.sqrt(data[col]))\n",
    "    \n",
    "    plt.subplot(1,3,2)\n",
    "    stats.probplot(np.sqrt(data[col]),dist='norm',plot=pylab)\n",
    "    \n",
    "    plt.subplot(1,3,3)\n",
    "    sns.boxplot(y=np.sqrt(data[col]))\n",
    "    \n",
    "\n",
    "def exponential_master(data,col,e):\n",
    "    plt.figure(figsize=(20,5))\n",
    "    plt.subplot(1,3,1)\n",
    "    sns.distplot(data[col]**e)\n",
    "    \n",
    "    plt.subplot(1,3,2)\n",
    "    stats.probplot(data[col]**e,dist='norm',plot=pylab)\n",
    "    \n",
    "    plt.subplot(1,3,3)\n",
    "    sns.boxplot(y=data[col]**e)\n",
    "    \n",
    "def boxcox_master(data, col):\n",
    "    plt.figure(figsize=(16, 4))\n",
    "    plt.tight_layout()\n",
    "\n",
    "    z,param=stats.boxcox(data[col])\n",
    "    \n",
    "    plt.subplot(1, 3, 1)\n",
    "    sns.distplot(z, bins=30)\n",
    "    plt.title('Box-Cox Histogram')\n",
    "\n",
    "    plt.subplot(1, 3, 2)\n",
    "    stats.probplot(z, dist=\"norm\", plot=pylab)\n",
    "    plt.ylabel('Box-Cox RM quantiles')\n",
    "\n",
    "    plt.subplot(1, 3, 3)\n",
    "    sns.boxplot(y=z)\n",
    "    plt.title('Box-Cox Boxplot')\n"
   ]
  },
  {
   "cell_type": "code",
   "execution_count": 21,
   "metadata": {},
   "outputs": [
    {
     "data": {
      "image/png": "[encoded data removed]",
      "text/plain": [
       "<Figure size 1440x360 with 3 Axes>"
      ]
     },
     "metadata": {
      "needs_background": "light"
     },
     "output_type": "display_data"
    }
   ],
   "source": [
    "masterplot(data,'ratio')"
   ]
  },
  {
   "cell_type": "code",
   "execution_count": 22,
   "metadata": {},
   "outputs": [
    {
     "data": {
      "image/png": "[encoded data removed]",
      "text/plain": [
       "<Figure size 1440x360 with 3 Axes>"
      ]
     },
     "metadata": {
      "needs_background": "light"
     },
     "output_type": "display_data"
    }
   ],
   "source": [
    "exponential_master(data,'ratio',0.26)"
   ]
  },
  {
   "cell_type": "code",
   "execution_count": 96,
   "metadata": {},
   "outputs": [],
   "source": [
    "data['ratio'] = data['ratio']**0.26"
   ]
  },
  {
   "cell_type": "code",
   "execution_count": 97,
   "metadata": {},
   "outputs": [],
   "source": [
    "data_model = data"
   ]
  },
  {
   "cell_type": "code",
   "execution_count": 56,
   "metadata": {},
   "outputs": [
    {
     "data": {
      "text/plain": [
       "issue_year  breed_category\n",
       "1994        2.0                  1\n",
       "1995        1.0                  1\n",
       "1997        1.0                  1\n",
       "1998        0.0                  4\n",
       "            1.0                  1\n",
       "                              ... \n",
       "2018        1.0               1192\n",
       "            2.0                250\n",
       "2019        0.0                 65\n",
       "            1.0                 90\n",
       "            2.0                  9\n",
       "Name: condition, Length: 61, dtype: int64"
      ]
     },
     "execution_count": 56,
     "metadata": {},
     "output_type": "execute_result"
    }
   ],
   "source": [
    "data_model.groupby(['issue_year','breed_category']).count()['condition']"
   ]
  },
  {
   "cell_type": "code",
   "execution_count": 70,
   "metadata": {},
   "outputs": [
    {
     "data": {
      "text/plain": [
       "pet_category\n",
       "1    24\n",
       "2    73\n",
       "Name: condition, dtype: int64"
      ]
     },
     "execution_count": 70,
     "metadata": {},
     "output_type": "execute_result"
    }
   ],
   "source": [
    "data_model.groupby(['issue_year','pet_category']).count()['condition'][2004]"
   ]
  },
  {
   "cell_type": "code",
   "execution_count": 100,
   "metadata": {},
   "outputs": [
    {
     "data": {
      "text/plain": [
       "Index(['condition', 'length(m)', 'height(cm)', 'X2', 'breed_category',\n",
       "       'pet_category', 'issue_month', 'issue_year', 'listing_month',\n",
       "       'listing_year', 'breed_0', 'breed_1', 'breed_2', 'pet_1', 'pet_2',\n",
       "       'pet_4', 'pet_0', 'Agouti', 'Apricot', 'Black', 'Black Brindle',\n",
       "       'Black Smoke', 'Black Tabby', 'Black Tiger', 'Blue', 'Blue Cream',\n",
       "       'Blue Merle', 'Blue Point', 'Blue Smoke', 'Blue Tabby', 'Blue Tick',\n",
       "       'Blue Tiger', 'Brown', 'Brown Brindle', 'Brown Merle', 'Brown Tabby',\n",
       "       'Brown Tiger', 'Buff', 'Calico', 'Calico Point', 'Chocolate',\n",
       "       'Chocolate Point', 'Cream', 'Cream Tabby', 'Fawn', 'Flame Point',\n",
       "       'Gold', 'Gray', 'Gray Tabby', 'Green', 'Lilac Point', 'Liver',\n",
       "       'Liver Tick', 'Lynx Point', 'Orange', 'Orange Tabby', 'Pink', 'Red',\n",
       "       'Red Merle', 'Red Tick', 'Sable', 'Seal Point', 'Silver',\n",
       "       'Silver Lynx Point', 'Silver Tabby', 'Tan', 'Torbie', 'Tortie',\n",
       "       'Tortie Point', 'Tricolor', 'White', 'Yellow', 'Yellow Brindle',\n",
       "       'Colm1', 'ratio'],\n",
       "      dtype='object')"
      ]
     },
     "execution_count": 100,
     "metadata": {},
     "output_type": "execute_result"
    }
   ],
   "source": [
    "data_model.columns"
   ]
  },
  {
   "cell_type": "code",
   "execution_count": 101,
   "metadata": {},
   "outputs": [
    {
     "data": {
      "text/plain": [
       "(18834, 75)"
      ]
     },
     "execution_count": 101,
     "metadata": {},
     "output_type": "execute_result"
    }
   ],
   "source": [
    "data_model.shape"
   ]
  },
  {
   "cell_type": "code",
   "execution_count": 98,
   "metadata": {},
   "outputs": [],
   "source": [
    "#data_model.drop('breed_2',axis=1,inplace=True)\n",
    "data_model.insert(13,'breed_2',1-(data_model['breed_0'] + data_model['breed_1']))"
   ]
  },
  {
   "cell_type": "code",
   "execution_count": 99,
   "metadata": {},
   "outputs": [],
   "source": [
    "data_model.drop('X1',axis=1,inplace=True)"
   ]
  },
  {
   "cell_type": "code",
   "execution_count": 183,
   "metadata": {},
   "outputs": [],
   "source": [
    "#data_breed = data_model.drop(['pet_0','pet_1','pet_2','pet_4'],axis=1)\n",
    "data_pet = data_model.drop(['breed_0','breed_1'],axis=1)"
   ]
  },
  {
   "cell_type": "code",
   "execution_count": 132,
   "metadata": {},
   "outputs": [],
   "source": [
    "test = pd.read_csv(\"C:/Users/KIIT/Downloads/pet adoption challenge/Dataset/test.csv\")"
   ]
  },
  {
   "cell_type": "code",
   "execution_count": 117,
   "metadata": {},
   "outputs": [],
   "source": [
    "test['issue_date'] = pd.to_datetime(test['issue_date'])\n",
    "\n",
    "test['listing_date'] = pd.to_datetime(test['listing_date'])\n",
    "\n",
    "test['issue_month'] = test['issue_date'].dt.month\n",
    "test['issue_year'] = test['issue_date'].dt.year\n",
    "test['listing_month'] = test['listing_date'].dt.month\n",
    "test['listing_year'] = test['listing_date'].dt.year"
   ]
  },
  {
   "cell_type": "code",
   "execution_count": 118,
   "metadata": {},
   "outputs": [],
   "source": [
    "test['ratio'] = (test['length(m)']*100)/test['height(cm)']\n",
    "\n",
    "for i in range(len(test['color_type'])):\n",
    "    #print(i)\n",
    "    d = test.loc[i,'color_type']\n",
    "    da = data[data['color_type'] == d]\n",
    "    test.loc[i,'breed_0'] = len(da[da['breed_category'] == 0]['pet_id'])/len(da['pet_id'])\n",
    "    test.loc[i,'breed_1'] = len(da[da['breed_category'] == 1]['pet_id'])/len(da['pet_id'])\n",
    "    test.loc[i,'breed_2'] = len(da[da['breed_category'] == 2]['pet_id'])/len(da['pet_id'])\n",
    "    test.loc[i,'pet_1'] =  len(da[da['pet_category'] == 1]['pet_id'])/len(da['pet_id'])\n",
    "    test.loc[i,'pet_2'] = len(da[da['pet_category'] == 2]['pet_id'])/len(da['pet_id'])\n",
    "    test.loc[i,'pet_4'] = len(da[da['pet_category'] == 4]['pet_id'])/len(da['pet_id'])\n",
    "    test.loc[i,'pet_0'] = len(da[da['pet_category'] == 0]['pet_id'])/len(da['pet_id'])"
   ]
  },
  {
   "cell_type": "code",
   "execution_count": 119,
   "metadata": {},
   "outputs": [
    {
     "data": {
      "text/html": [
       "<div>\n",
       "<style scoped>\n",
       "    .dataframe tbody tr th:only-of-type {\n",
       "        vertical-align: middle;\n",
       "    }\n",
       "\n",
       "    .dataframe tbody tr th {\n",
       "        vertical-align: top;\n",
       "    }\n",
       "\n",
       "    .dataframe thead th {\n",
       "        text-align: right;\n",
       "    }\n",
       "</style>\n",
       "<table border=\"1\" class=\"dataframe\">\n",
       "  <thead>\n",
       "    <tr style=\"text-align: right;\">\n",
       "      <th></th>\n",
       "      <th>condition</th>\n",
       "      <th>length(m)</th>\n",
       "      <th>height(cm)</th>\n",
       "      <th>X1</th>\n",
       "      <th>X2</th>\n",
       "      <th>issue_month</th>\n",
       "      <th>issue_year</th>\n",
       "      <th>listing_month</th>\n",
       "      <th>listing_year</th>\n",
       "      <th>ratio</th>\n",
       "      <th>...</th>\n",
       "      <th>Silver Lynx Point</th>\n",
       "      <th>Silver Tabby</th>\n",
       "      <th>Tan</th>\n",
       "      <th>Torbie</th>\n",
       "      <th>Tortie</th>\n",
       "      <th>Tortie Point</th>\n",
       "      <th>Tricolor</th>\n",
       "      <th>White</th>\n",
       "      <th>Yellow</th>\n",
       "      <th>Yellow Brindle</th>\n",
       "    </tr>\n",
       "  </thead>\n",
       "  <tbody>\n",
       "    <tr>\n",
       "      <th>0</th>\n",
       "      <td>0.0</td>\n",
       "      <td>0.87</td>\n",
       "      <td>42.73</td>\n",
       "      <td>0</td>\n",
       "      <td>7</td>\n",
       "      <td>8</td>\n",
       "      <td>2005</td>\n",
       "      <td>9</td>\n",
       "      <td>2017</td>\n",
       "      <td>2.036040</td>\n",
       "      <td>...</td>\n",
       "      <td>0</td>\n",
       "      <td>0</td>\n",
       "      <td>0</td>\n",
       "      <td>0</td>\n",
       "      <td>0</td>\n",
       "      <td>0</td>\n",
       "      <td>0</td>\n",
       "      <td>0</td>\n",
       "      <td>0</td>\n",
       "      <td>0</td>\n",
       "    </tr>\n",
       "    <tr>\n",
       "      <th>1</th>\n",
       "      <td>1.0</td>\n",
       "      <td>0.06</td>\n",
       "      <td>6.71</td>\n",
       "      <td>0</td>\n",
       "      <td>1</td>\n",
       "      <td>11</td>\n",
       "      <td>2018</td>\n",
       "      <td>5</td>\n",
       "      <td>2019</td>\n",
       "      <td>0.894188</td>\n",
       "      <td>...</td>\n",
       "      <td>0</td>\n",
       "      <td>0</td>\n",
       "      <td>0</td>\n",
       "      <td>0</td>\n",
       "      <td>0</td>\n",
       "      <td>0</td>\n",
       "      <td>0</td>\n",
       "      <td>0</td>\n",
       "      <td>0</td>\n",
       "      <td>0</td>\n",
       "    </tr>\n",
       "    <tr>\n",
       "      <th>2</th>\n",
       "      <td>1.0</td>\n",
       "      <td>0.24</td>\n",
       "      <td>41.21</td>\n",
       "      <td>0</td>\n",
       "      <td>7</td>\n",
       "      <td>10</td>\n",
       "      <td>2012</td>\n",
       "      <td>4</td>\n",
       "      <td>2018</td>\n",
       "      <td>0.582383</td>\n",
       "      <td>...</td>\n",
       "      <td>0</td>\n",
       "      <td>0</td>\n",
       "      <td>0</td>\n",
       "      <td>0</td>\n",
       "      <td>0</td>\n",
       "      <td>0</td>\n",
       "      <td>0</td>\n",
       "      <td>0</td>\n",
       "      <td>0</td>\n",
       "      <td>0</td>\n",
       "    </tr>\n",
       "    <tr>\n",
       "      <th>3</th>\n",
       "      <td>1.0</td>\n",
       "      <td>0.29</td>\n",
       "      <td>8.46</td>\n",
       "      <td>7</td>\n",
       "      <td>1</td>\n",
       "      <td>2</td>\n",
       "      <td>2015</td>\n",
       "      <td>4</td>\n",
       "      <td>2018</td>\n",
       "      <td>3.427896</td>\n",
       "      <td>...</td>\n",
       "      <td>0</td>\n",
       "      <td>0</td>\n",
       "      <td>0</td>\n",
       "      <td>0</td>\n",
       "      <td>0</td>\n",
       "      <td>0</td>\n",
       "      <td>0</td>\n",
       "      <td>0</td>\n",
       "      <td>0</td>\n",
       "      <td>0</td>\n",
       "    </tr>\n",
       "    <tr>\n",
       "      <th>4</th>\n",
       "      <td>1.0</td>\n",
       "      <td>0.71</td>\n",
       "      <td>30.92</td>\n",
       "      <td>0</td>\n",
       "      <td>7</td>\n",
       "      <td>1</td>\n",
       "      <td>2017</td>\n",
       "      <td>4</td>\n",
       "      <td>2018</td>\n",
       "      <td>2.296248</td>\n",
       "      <td>...</td>\n",
       "      <td>0</td>\n",
       "      <td>0</td>\n",
       "      <td>0</td>\n",
       "      <td>0</td>\n",
       "      <td>0</td>\n",
       "      <td>0</td>\n",
       "      <td>0</td>\n",
       "      <td>0</td>\n",
       "      <td>0</td>\n",
       "      <td>0</td>\n",
       "    </tr>\n",
       "  </tbody>\n",
       "</table>\n",
       "<p>5 rows × 71 columns</p>\n",
       "</div>"
      ],
      "text/plain": [
       "   condition  length(m)  height(cm)  X1  X2  issue_month  issue_year  \\\n",
       "0        0.0       0.87       42.73   0   7            8        2005   \n",
       "1        1.0       0.06        6.71   0   1           11        2018   \n",
       "2        1.0       0.24       41.21   0   7           10        2012   \n",
       "3        1.0       0.29        8.46   7   1            2        2015   \n",
       "4        1.0       0.71       30.92   0   7            1        2017   \n",
       "\n",
       "   listing_month  listing_year     ratio  ...  Silver Lynx Point  \\\n",
       "0              9          2017  2.036040  ...                  0   \n",
       "1              5          2019  0.894188  ...                  0   \n",
       "2              4          2018  0.582383  ...                  0   \n",
       "3              4          2018  3.427896  ...                  0   \n",
       "4              4          2018  2.296248  ...                  0   \n",
       "\n",
       "   Silver Tabby  Tan  Torbie  Tortie  Tortie Point  Tricolor  White  Yellow  \\\n",
       "0             0    0       0       0             0         0      0       0   \n",
       "1             0    0       0       0             0         0      0       0   \n",
       "2             0    0       0       0             0         0      0       0   \n",
       "3             0    0       0       0             0         0      0       0   \n",
       "4             0    0       0       0             0         0      0       0   \n",
       "\n",
       "   Yellow Brindle  \n",
       "0               0  \n",
       "1               0  \n",
       "2               0  \n",
       "3               0  \n",
       "4               0  \n",
       "\n",
       "[5 rows x 71 columns]"
      ]
     },
     "execution_count": 119,
     "metadata": {},
     "output_type": "execute_result"
    }
   ],
   "source": [
    "test.drop(['pet_id','issue_date','listing_date'],axis=1,inplace=True)\n",
    "\n",
    "test['color_type'] = test['color_type'].astype('category')\n",
    "one_hot_encoded = pd.get_dummies(test['color_type'])\n",
    "\n",
    "test = test.drop('color_type', axis=1)\n",
    "\n",
    "\n",
    "test = pd.concat([test, one_hot_encoded], axis=1)\n",
    "test.head()"
   ]
  },
  {
   "cell_type": "code",
   "execution_count": 120,
   "metadata": {},
   "outputs": [],
   "source": [
    "t1 = test.dropna()"
   ]
  },
  {
   "cell_type": "code",
   "execution_count": 121,
   "metadata": {},
   "outputs": [
    {
     "data": {
      "text/plain": [
       "KNeighborsClassifier(algorithm='auto', leaf_size=30, metric='minkowski',\n",
       "                     metric_params=None, n_jobs=None, n_neighbors=5, p=2,\n",
       "                     weights='uniform')"
      ]
     },
     "execution_count": 121,
     "metadata": {},
     "output_type": "execute_result"
    }
   ],
   "source": [
    "knn.fit(t1.drop('condition',axis=1),t1['condition'])"
   ]
  },
  {
   "cell_type": "code",
   "execution_count": 122,
   "metadata": {},
   "outputs": [],
   "source": [
    "for i in range(len(test['X1'])):\n",
    "    if(np.isnan(test.loc[i,'condition'])):\n",
    "        test.loc[i,'condition'] = knn.predict(test[i:i+1].drop('condition',axis=1))[0]"
   ]
  },
  {
   "cell_type": "code",
   "execution_count": 123,
   "metadata": {},
   "outputs": [
    {
     "data": {
      "text/html": [
       "<div>\n",
       "<style scoped>\n",
       "    .dataframe tbody tr th:only-of-type {\n",
       "        vertical-align: middle;\n",
       "    }\n",
       "\n",
       "    .dataframe tbody tr th {\n",
       "        vertical-align: top;\n",
       "    }\n",
       "\n",
       "    .dataframe thead th {\n",
       "        text-align: right;\n",
       "    }\n",
       "</style>\n",
       "<table border=\"1\" class=\"dataframe\">\n",
       "  <thead>\n",
       "    <tr style=\"text-align: right;\">\n",
       "      <th></th>\n",
       "      <th>condition</th>\n",
       "      <th>length(m)</th>\n",
       "      <th>height(cm)</th>\n",
       "      <th>X1</th>\n",
       "      <th>X2</th>\n",
       "      <th>issue_month</th>\n",
       "      <th>issue_year</th>\n",
       "      <th>listing_month</th>\n",
       "      <th>listing_year</th>\n",
       "      <th>ratio</th>\n",
       "      <th>...</th>\n",
       "      <th>Silver Lynx Point</th>\n",
       "      <th>Silver Tabby</th>\n",
       "      <th>Tan</th>\n",
       "      <th>Torbie</th>\n",
       "      <th>Tortie</th>\n",
       "      <th>Tortie Point</th>\n",
       "      <th>Tricolor</th>\n",
       "      <th>White</th>\n",
       "      <th>Yellow</th>\n",
       "      <th>Yellow Brindle</th>\n",
       "    </tr>\n",
       "  </thead>\n",
       "  <tbody>\n",
       "    <tr>\n",
       "      <th>0</th>\n",
       "      <td>0.0</td>\n",
       "      <td>0.87</td>\n",
       "      <td>42.73</td>\n",
       "      <td>0</td>\n",
       "      <td>7</td>\n",
       "      <td>8</td>\n",
       "      <td>2005</td>\n",
       "      <td>9</td>\n",
       "      <td>2017</td>\n",
       "      <td>2.036040</td>\n",
       "      <td>...</td>\n",
       "      <td>0</td>\n",
       "      <td>0</td>\n",
       "      <td>0</td>\n",
       "      <td>0</td>\n",
       "      <td>0</td>\n",
       "      <td>0</td>\n",
       "      <td>0</td>\n",
       "      <td>0</td>\n",
       "      <td>0</td>\n",
       "      <td>0</td>\n",
       "    </tr>\n",
       "    <tr>\n",
       "      <th>1</th>\n",
       "      <td>1.0</td>\n",
       "      <td>0.06</td>\n",
       "      <td>6.71</td>\n",
       "      <td>0</td>\n",
       "      <td>1</td>\n",
       "      <td>11</td>\n",
       "      <td>2018</td>\n",
       "      <td>5</td>\n",
       "      <td>2019</td>\n",
       "      <td>0.894188</td>\n",
       "      <td>...</td>\n",
       "      <td>0</td>\n",
       "      <td>0</td>\n",
       "      <td>0</td>\n",
       "      <td>0</td>\n",
       "      <td>0</td>\n",
       "      <td>0</td>\n",
       "      <td>0</td>\n",
       "      <td>0</td>\n",
       "      <td>0</td>\n",
       "      <td>0</td>\n",
       "    </tr>\n",
       "    <tr>\n",
       "      <th>2</th>\n",
       "      <td>1.0</td>\n",
       "      <td>0.24</td>\n",
       "      <td>41.21</td>\n",
       "      <td>0</td>\n",
       "      <td>7</td>\n",
       "      <td>10</td>\n",
       "      <td>2012</td>\n",
       "      <td>4</td>\n",
       "      <td>2018</td>\n",
       "      <td>0.582383</td>\n",
       "      <td>...</td>\n",
       "      <td>0</td>\n",
       "      <td>0</td>\n",
       "      <td>0</td>\n",
       "      <td>0</td>\n",
       "      <td>0</td>\n",
       "      <td>0</td>\n",
       "      <td>0</td>\n",
       "      <td>0</td>\n",
       "      <td>0</td>\n",
       "      <td>0</td>\n",
       "    </tr>\n",
       "    <tr>\n",
       "      <th>3</th>\n",
       "      <td>1.0</td>\n",
       "      <td>0.29</td>\n",
       "      <td>8.46</td>\n",
       "      <td>7</td>\n",
       "      <td>1</td>\n",
       "      <td>2</td>\n",
       "      <td>2015</td>\n",
       "      <td>4</td>\n",
       "      <td>2018</td>\n",
       "      <td>3.427896</td>\n",
       "      <td>...</td>\n",
       "      <td>0</td>\n",
       "      <td>0</td>\n",
       "      <td>0</td>\n",
       "      <td>0</td>\n",
       "      <td>0</td>\n",
       "      <td>0</td>\n",
       "      <td>0</td>\n",
       "      <td>0</td>\n",
       "      <td>0</td>\n",
       "      <td>0</td>\n",
       "    </tr>\n",
       "    <tr>\n",
       "      <th>4</th>\n",
       "      <td>1.0</td>\n",
       "      <td>0.71</td>\n",
       "      <td>30.92</td>\n",
       "      <td>0</td>\n",
       "      <td>7</td>\n",
       "      <td>1</td>\n",
       "      <td>2017</td>\n",
       "      <td>4</td>\n",
       "      <td>2018</td>\n",
       "      <td>2.296248</td>\n",
       "      <td>...</td>\n",
       "      <td>0</td>\n",
       "      <td>0</td>\n",
       "      <td>0</td>\n",
       "      <td>0</td>\n",
       "      <td>0</td>\n",
       "      <td>0</td>\n",
       "      <td>0</td>\n",
       "      <td>0</td>\n",
       "      <td>0</td>\n",
       "      <td>0</td>\n",
       "    </tr>\n",
       "  </tbody>\n",
       "</table>\n",
       "<p>5 rows × 71 columns</p>\n",
       "</div>"
      ],
      "text/plain": [
       "   condition  length(m)  height(cm)  X1  X2  issue_month  issue_year  \\\n",
       "0        0.0       0.87       42.73   0   7            8        2005   \n",
       "1        1.0       0.06        6.71   0   1           11        2018   \n",
       "2        1.0       0.24       41.21   0   7           10        2012   \n",
       "3        1.0       0.29        8.46   7   1            2        2015   \n",
       "4        1.0       0.71       30.92   0   7            1        2017   \n",
       "\n",
       "   listing_month  listing_year     ratio  ...  Silver Lynx Point  \\\n",
       "0              9          2017  2.036040  ...                  0   \n",
       "1              5          2019  0.894188  ...                  0   \n",
       "2              4          2018  0.582383  ...                  0   \n",
       "3              4          2018  3.427896  ...                  0   \n",
       "4              4          2018  2.296248  ...                  0   \n",
       "\n",
       "   Silver Tabby  Tan  Torbie  Tortie  Tortie Point  Tricolor  White  Yellow  \\\n",
       "0             0    0       0       0             0         0      0       0   \n",
       "1             0    0       0       0             0         0      0       0   \n",
       "2             0    0       0       0             0         0      0       0   \n",
       "3             0    0       0       0             0         0      0       0   \n",
       "4             0    0       0       0             0         0      0       0   \n",
       "\n",
       "   Yellow Brindle  \n",
       "0               0  \n",
       "1               0  \n",
       "2               0  \n",
       "3               0  \n",
       "4               0  \n",
       "\n",
       "[5 rows x 71 columns]"
      ]
     },
     "execution_count": 123,
     "metadata": {},
     "output_type": "execute_result"
    }
   ],
   "source": [
    "test.head()"
   ]
  },
  {
   "cell_type": "code",
   "execution_count": 124,
   "metadata": {},
   "outputs": [],
   "source": [
    "test['Colm1'] = (test['X1'] + test['X2'])**2"
   ]
  },
  {
   "cell_type": "code",
   "execution_count": 125,
   "metadata": {},
   "outputs": [],
   "source": [
    "test.drop('ratio',axis=1,inplace=True)\n",
    "test['ratio'] = test['length(m)']*100/test['height(cm)']"
   ]
  },
  {
   "cell_type": "code",
   "execution_count": 126,
   "metadata": {},
   "outputs": [],
   "source": [
    "test['ratio'] = test['ratio']**0.26\n",
    "test.drop('X1',axis=1,inplace=True)"
   ]
  },
  {
   "cell_type": "code",
   "execution_count": 127,
   "metadata": {},
   "outputs": [],
   "source": [
    "test_breed = test.drop(['pet_0','pet_1','pet_2','pet_4'],axis=1)\n",
    "test_pet = test.drop(['breed_0','breed_1'],axis=1)"
   ]
  },
  {
   "cell_type": "code",
   "execution_count": 128,
   "metadata": {},
   "outputs": [
    {
     "data": {
      "text/plain": [
       "GradientBoostingClassifier(ccp_alpha=0.0, criterion='friedman_mse', init=None,\n",
       "                           learning_rate=0.1, loss='deviance', max_depth=3,\n",
       "                           max_features=None, max_leaf_nodes=None,\n",
       "                           min_impurity_decrease=0.0, min_impurity_split=None,\n",
       "                           min_samples_leaf=1, min_samples_split=2,\n",
       "                           min_weight_fraction_leaf=0.0, n_estimators=100,\n",
       "                           n_iter_no_change=None, presort='deprecated',\n",
       "                           random_state=None, subsample=1.0, tol=0.0001,\n",
       "                           validation_fraction=0.1, verbose=0,\n",
       "                           warm_start=False)"
      ]
     },
     "execution_count": 128,
     "metadata": {},
     "output_type": "execute_result"
    }
   ],
   "source": [
    "from sklearn.ensemble import GradientBoostingClassifier\n",
    "xgb = GradientBoostingClassifier()\n",
    "xgb.fit(data_breed.drop(['breed_category','pet_category'],axis=1),data_breed['breed_category'])\n",
    "\n",
    "gb = GradientBoostingClassifier()\n",
    "gb.fit(data_pet.drop(['breed_category','pet_category'],axis=1),data_pet['pet_category'])"
   ]
  },
  {
   "cell_type": "code",
   "execution_count": 131,
   "metadata": {},
   "outputs": [],
   "source": [
    "submit = pd.DataFrame()"
   ]
  },
  {
   "cell_type": "code",
   "execution_count": 135,
   "metadata": {},
   "outputs": [
    {
     "data": {
      "text/plain": [
       "Index(['condition', 'length(m)', 'height(cm)', 'X2', 'issue_month',\n",
       "       'issue_year', 'listing_month', 'listing_year', 'breed_0', 'breed_1',\n",
       "       'breed_2', 'Agouti', 'Apricot', 'Black', 'Black Brindle', 'Black Smoke',\n",
       "       'Black Tabby', 'Black Tiger', 'Blue', 'Blue Cream', 'Blue Merle',\n",
       "       'Blue Point', 'Blue Smoke', 'Blue Tabby', 'Blue Tick', 'Blue Tiger',\n",
       "       'Brown', 'Brown Brindle', 'Brown Merle', 'Brown Tabby', 'Brown Tiger',\n",
       "       'Buff', 'Calico', 'Calico Point', 'Chocolate', 'Chocolate Point',\n",
       "       'Cream', 'Cream Tabby', 'Fawn', 'Flame Point', 'Gold', 'Gray',\n",
       "       'Gray Tabby', 'Green', 'Lilac Point', 'Liver', 'Liver Tick',\n",
       "       'Lynx Point', 'Orange', 'Orange Tabby', 'Pink', 'Red', 'Red Merle',\n",
       "       'Red Tick', 'Sable', 'Seal Point', 'Silver', 'Silver Lynx Point',\n",
       "       'Silver Tabby', 'Tan', 'Torbie', 'Tortie', 'Tortie Point', 'Tricolor',\n",
       "       'White', 'Yellow', 'Yellow Brindle', 'Colm1', 'ratio'],\n",
       "      dtype='object')"
      ]
     },
     "execution_count": 135,
     "metadata": {},
     "output_type": "execute_result"
    }
   ],
   "source": [
    "data_breed.drop(['breed_category','pet_category'],axis=1).columns"
   ]
  },
  {
   "cell_type": "code",
   "execution_count": 204,
   "metadata": {},
   "outputs": [
    {
     "data": {
      "text/plain": [
       "Index(['condition', 'length(m)', 'height(cm)', 'X2', 'issue_month',\n",
       "       'issue_year', 'listing_month', 'listing_year', 'breed_2', 'pet_1',\n",
       "       'pet_2', 'pet_4', 'pet_0', 'Agouti', 'Apricot', 'Black',\n",
       "       'Black Brindle', 'Black Smoke', 'Black Tabby', 'Black Tiger', 'Blue',\n",
       "       'Blue Cream', 'Blue Merle', 'Blue Point', 'Blue Smoke', 'Blue Tabby',\n",
       "       'Blue Tick', 'Blue Tiger', 'Brown', 'Brown Brindle', 'Brown Merle',\n",
       "       'Brown Tabby', 'Brown Tiger', 'Buff', 'Calico', 'Calico Point',\n",
       "       'Chocolate', 'Chocolate Point', 'Cream', 'Cream Tabby', 'Fawn',\n",
       "       'Flame Point', 'Gold', 'Gray', 'Gray Tabby', 'Green', 'Lilac Point',\n",
       "       'Liver', 'Liver Tick', 'Lynx Point', 'Orange', 'Orange Tabby', 'Pink',\n",
       "       'Red', 'Red Merle', 'Red Tick', 'Sable', 'Seal Point', 'Silver',\n",
       "       'Silver Lynx Point', 'Silver Tabby', 'Tan', 'Torbie', 'Tortie',\n",
       "       'Tortie Point', 'Tricolor', 'White', 'Yellow', 'Yellow Brindle',\n",
       "       'Colm1', 'ratio'],\n",
       "      dtype='object')"
      ]
     },
     "execution_count": 204,
     "metadata": {},
     "output_type": "execute_result"
    }
   ],
   "source": [
    "data_pet.drop(['breed_category','pet_category'],axis=1).columns"
   ]
  },
  {
   "cell_type": "code",
   "execution_count": 213,
   "metadata": {},
   "outputs": [
    {
     "data": {
      "text/plain": [
       "Index(['condition', 'length(m)', 'height(cm)', 'X2', 'issue_month',\n",
       "       'issue_year', 'listing_month', 'listing_year', 'breed_2', 'pet_1',\n",
       "       'pet_2', 'pet_4', 'pet_0', 'Agouti', 'Apricot', 'Black',\n",
       "       'Black Brindle', 'Black Smoke', 'Black Tabby', 'Black Tiger', 'Blue',\n",
       "       'Blue Cream', 'Blue Merle', 'Blue Point', 'Blue Smoke', 'Blue Tabby',\n",
       "       'Blue Tick', 'Blue Tiger', 'Brown', 'Brown Brindle', 'Brown Merle',\n",
       "       'Brown Tabby', 'Brown Tiger', 'Buff', 'Calico', 'Calico Point',\n",
       "       'Chocolate', 'Chocolate Point', 'Cream', 'Cream Tabby', 'Fawn',\n",
       "       'Flame Point', 'Gold', 'Gray', 'Gray Tabby', 'Green', 'Lilac Point',\n",
       "       'Liver', 'Liver Tick', 'Lynx Point', 'Orange', 'Orange Tabby', 'Pink',\n",
       "       'Red', 'Red Merle', 'Red Tick', 'Sable', 'Seal Point', 'Silver',\n",
       "       'Silver Lynx Point', 'Silver Tabby', 'Tan', 'Torbie', 'Tortie',\n",
       "       'Tortie Point', 'Tricolor', 'White', 'Yellow', 'Yellow Brindle',\n",
       "       'Colm1', 'ratio'],\n",
       "      dtype='object')"
      ]
     },
     "execution_count": 213,
     "metadata": {},
     "output_type": "execute_result"
    }
   ],
   "source": [
    "test_pet.columns"
   ]
  },
  {
   "cell_type": "code",
   "execution_count": 210,
   "metadata": {},
   "outputs": [],
   "source": [
    "test_pet.drop(['Black Tiger','Brown Tiger'],axis=1,inplace=True)"
   ]
  },
  {
   "cell_type": "code",
   "execution_count": 144,
   "metadata": {},
   "outputs": [
    {
     "data": {
      "text/plain": [
       "Index(['condition', 'length(m)', 'height(cm)', 'X2', 'issue_month',\n",
       "       'issue_year', 'listing_month', 'listing_year', 'breed_0', 'breed_1',\n",
       "       'breed_2', 'Agouti', 'Apricot', 'Black', 'Black Brindle', 'Black Smoke',\n",
       "       'Black Tabby', 'Black Tiger', 'Blue', 'Blue Cream', 'Blue Merle',\n",
       "       'Blue Point', 'Blue Smoke', 'Blue Tabby', 'Blue Tick', 'Blue Tiger',\n",
       "       'Brown', 'Brown Brindle', 'Brown Merle', 'Brown Tabby', 'Brown Tiger',\n",
       "       'Buff', 'Calico', 'Calico Point', 'Chocolate', 'Chocolate Point',\n",
       "       'Cream', 'Cream Tabby', 'Fawn', 'Flame Point', 'Gold', 'Gray',\n",
       "       'Gray Tabby', 'Green', 'Lilac Point', 'Liver', 'Liver Tick',\n",
       "       'Lynx Point', 'Orange', 'Orange Tabby', 'Pink', 'Red', 'Red Merle',\n",
       "       'Red Tick', 'Sable', 'Seal Point', 'Silver', 'Silver Lynx Point',\n",
       "       'Silver Tabby', 'Tan', 'Torbie', 'Tortie', 'Tortie Point', 'Tricolor',\n",
       "       'White', 'Yellow', 'Yellow Brindle', 'Colm1', 'ratio'],\n",
       "      dtype='object')"
      ]
     },
     "execution_count": 144,
     "metadata": {},
     "output_type": "execute_result"
    }
   ],
   "source": [
    "test_breed.columns"
   ]
  },
  {
   "cell_type": "code",
   "execution_count": 136,
   "metadata": {},
   "outputs": [],
   "source": [
    "test_breed.insert(18,'Black_Tiger',0)"
   ]
  },
  {
   "cell_type": "code",
   "execution_count": 139,
   "metadata": {},
   "outputs": [],
   "source": [
    "test_breed.drop('Black_Tiger',axis=1,inplace=True)\n",
    "test_breed.insert(17,'Black Tiger',0)\n",
    "test_pet.insert(18,'Black Tiger',0)"
   ]
  },
  {
   "cell_type": "code",
   "execution_count": 211,
   "metadata": {},
   "outputs": [],
   "source": [
    "#test_pet.drop('Black Tiger',axis=1,inplace=True)\n",
    "test_pet.insert(19,'Black Tiger',0)\n"
   ]
  },
  {
   "cell_type": "code",
   "execution_count": 212,
   "metadata": {},
   "outputs": [],
   "source": [
    "#test_breed.insert(30,'Brown Tiger',0)\n",
    "test_pet.insert(32,'Brown Tiger',0)"
   ]
  },
  {
   "cell_type": "code",
   "execution_count": 145,
   "metadata": {},
   "outputs": [],
   "source": [
    "for i in range(len(test['pet_id'])):\n",
    "    submit.loc[i,'pet_id'] = test.loc[i,'pet_id']\n",
    "    arr = xgb.predict(test_breed[i:i+1])\n",
    "    submit.loc[i,'breed_category'] = arr[0]\n",
    "    ars = gb.predict(test_pet[i:i+1])\n",
    "    submit.loc[i,'pet_category'] = ars[0]"
   ]
  },
  {
   "cell_type": "code",
   "execution_count": 231,
   "metadata": {},
   "outputs": [
    {
     "data": {
      "text/html": [
       "<div>\n",
       "<style scoped>\n",
       "    .dataframe tbody tr th:only-of-type {\n",
       "        vertical-align: middle;\n",
       "    }\n",
       "\n",
       "    .dataframe tbody tr th {\n",
       "        vertical-align: top;\n",
       "    }\n",
       "\n",
       "    .dataframe thead th {\n",
       "        text-align: right;\n",
       "    }\n",
       "</style>\n",
       "<table border=\"1\" class=\"dataframe\">\n",
       "  <thead>\n",
       "    <tr style=\"text-align: right;\">\n",
       "      <th></th>\n",
       "      <th>pet_id</th>\n",
       "      <th>breed_category</th>\n",
       "      <th>pet_category</th>\n",
       "    </tr>\n",
       "  </thead>\n",
       "  <tbody>\n",
       "    <tr>\n",
       "      <th>0</th>\n",
       "      <td>ANSL_75005</td>\n",
       "      <td>1.0</td>\n",
       "      <td>2.0</td>\n",
       "    </tr>\n",
       "    <tr>\n",
       "      <th>1</th>\n",
       "      <td>ANSL_76663</td>\n",
       "      <td>0.0</td>\n",
       "      <td>1.0</td>\n",
       "    </tr>\n",
       "    <tr>\n",
       "      <th>2</th>\n",
       "      <td>ANSL_58259</td>\n",
       "      <td>0.0</td>\n",
       "      <td>2.0</td>\n",
       "    </tr>\n",
       "    <tr>\n",
       "      <th>3</th>\n",
       "      <td>ANSL_67171</td>\n",
       "      <td>0.0</td>\n",
       "      <td>2.0</td>\n",
       "    </tr>\n",
       "    <tr>\n",
       "      <th>4</th>\n",
       "      <td>ANSL_72871</td>\n",
       "      <td>0.0</td>\n",
       "      <td>2.0</td>\n",
       "    </tr>\n",
       "    <tr>\n",
       "      <th>...</th>\n",
       "      <td>...</td>\n",
       "      <td>...</td>\n",
       "      <td>...</td>\n",
       "    </tr>\n",
       "    <tr>\n",
       "      <th>1995</th>\n",
       "      <td>ANSL_50717</td>\n",
       "      <td>1.0</td>\n",
       "      <td>2.0</td>\n",
       "    </tr>\n",
       "    <tr>\n",
       "      <th>1996</th>\n",
       "      <td>ANSL_50172</td>\n",
       "      <td>0.0</td>\n",
       "      <td>1.0</td>\n",
       "    </tr>\n",
       "    <tr>\n",
       "      <th>1997</th>\n",
       "      <td>ANSL_58649</td>\n",
       "      <td>1.0</td>\n",
       "      <td>1.0</td>\n",
       "    </tr>\n",
       "    <tr>\n",
       "      <th>1998</th>\n",
       "      <td>ANSL_52086</td>\n",
       "      <td>2.0</td>\n",
       "      <td>4.0</td>\n",
       "    </tr>\n",
       "    <tr>\n",
       "      <th>1999</th>\n",
       "      <td>ANSL_76438</td>\n",
       "      <td>1.0</td>\n",
       "      <td>2.0</td>\n",
       "    </tr>\n",
       "  </tbody>\n",
       "</table>\n",
       "<p>2000 rows × 3 columns</p>\n",
       "</div>"
      ],
      "text/plain": [
       "          pet_id  breed_category  pet_category\n",
       "0     ANSL_75005             1.0           2.0\n",
       "1     ANSL_76663             0.0           1.0\n",
       "2     ANSL_58259             0.0           2.0\n",
       "3     ANSL_67171             0.0           2.0\n",
       "4     ANSL_72871             0.0           2.0\n",
       "...          ...             ...           ...\n",
       "1995  ANSL_50717             1.0           2.0\n",
       "1996  ANSL_50172             0.0           1.0\n",
       "1997  ANSL_58649             1.0           1.0\n",
       "1998  ANSL_52086             2.0           4.0\n",
       "1999  ANSL_76438             1.0           2.0\n",
       "\n",
       "[2000 rows x 3 columns]"
      ]
     },
     "execution_count": 231,
     "metadata": {},
     "output_type": "execute_result"
    }
   ],
   "source": [
    "submit[:2000]"
   ]
  },
  {
   "cell_type": "code",
   "execution_count": 147,
   "metadata": {},
   "outputs": [],
   "source": [
    "submit.to_csv(\"submit1.csv\")"
   ]
  },
  {
   "cell_type": "code",
   "execution_count": 216,
   "metadata": {},
   "outputs": [
    {
     "data": {
      "text/plain": [
       "RandomForestClassifier(bootstrap=True, ccp_alpha=0.0, class_weight='balanced',\n",
       "                       criterion='gini', max_depth=None, max_features='auto',\n",
       "                       max_leaf_nodes=None, max_samples=None,\n",
       "                       min_impurity_decrease=0.0, min_impurity_split=None,\n",
       "                       min_samples_leaf=1, min_samples_split=2,\n",
       "                       min_weight_fraction_leaf=0.0, n_estimators=100,\n",
       "                       n_jobs=None, oob_score=False, random_state=None,\n",
       "                       verbose=0, warm_start=False)"
      ]
     },
     "execution_count": 216,
     "metadata": {},
     "output_type": "execute_result"
    }
   ],
   "source": [
    "from sklearn.ensemble import RandomForestClassifier\n",
    "rf = RandomForestClassifier(class_weight=\"balanced\")\n",
    "rf.fit(data_breed.drop(['breed_category','pet_category'],axis=1),data_breed['breed_category'])"
   ]
  },
  {
   "cell_type": "code",
   "execution_count": 217,
   "metadata": {},
   "outputs": [],
   "source": [
    "for i in range(len(test['pet_id'])):\n",
    "    arr = rf.predict(test_breed[i:i+1])\n",
    "    submit.loc[i,'breed_category'] = arr[0]"
   ]
  },
  {
   "cell_type": "code",
   "execution_count": 218,
   "metadata": {},
   "outputs": [],
   "source": [
    "submit.to_csv(\"submit6.csv\")"
   ]
  },
  {
   "cell_type": "code",
   "execution_count": 154,
   "metadata": {},
   "outputs": [
    {
     "data": {
      "text/plain": [
       "RandomForestClassifier(bootstrap=True, ccp_alpha=0.0,\n",
       "                       class_weight={0: 24, 1: 5, 2: 5, 4: 92},\n",
       "                       criterion='gini', max_depth=None, max_features='auto',\n",
       "                       max_leaf_nodes=None, max_samples=None,\n",
       "                       min_impurity_decrease=0.0, min_impurity_split=None,\n",
       "                       min_samples_leaf=1, min_samples_split=2,\n",
       "                       min_weight_fraction_leaf=0.0, n_estimators=100,\n",
       "                       n_jobs=None, oob_score=False, random_state=None,\n",
       "                       verbose=0, warm_start=False)"
      ]
     },
     "execution_count": 154,
     "metadata": {},
     "output_type": "execute_result"
    }
   ],
   "source": [
    "from sklearn.ensemble import RandomForestClassifier\n",
    "rfc = RandomForestClassifier(class_weight={0:24,1:5,2:5,4:92})\n",
    "rfc.fit(data_pet.drop(['breed_category','pet_category'],axis=1),data_pet['pet_category'])"
   ]
  },
  {
   "cell_type": "code",
   "execution_count": 155,
   "metadata": {},
   "outputs": [],
   "source": [
    "for i in range(len(test['pet_id'])):\n",
    "    arr = rfc.predict(test_pet[i:i+1])\n",
    "    submit.loc[i,'pet_category'] = arr[0]"
   ]
  },
  {
   "cell_type": "code",
   "execution_count": 156,
   "metadata": {},
   "outputs": [],
   "source": [
    "submit.to_csv(\"submit3.csv\")"
   ]
  },
  {
   "cell_type": "code",
   "execution_count": 158,
   "metadata": {},
   "outputs": [
    {
     "data": {
      "text/plain": [
       "AdaBoostClassifier(algorithm='SAMME.R', base_estimator=None, learning_rate=1.0,\n",
       "                   n_estimators=50, random_state=None)"
      ]
     },
     "execution_count": 158,
     "metadata": {},
     "output_type": "execute_result"
    }
   ],
   "source": [
    "from sklearn.ensemble import AdaBoostClassifier\n",
    "ada = AdaBoostClassifier()\n",
    "ada.fit(data_breed.drop(['breed_category','pet_category'],axis=1),data_breed['breed_category'])\n",
    "\n",
    "ad = AdaBoostClassifier()\n",
    "ad.fit(data_pet.drop(['breed_category','pet_category'],axis=1),data_pet['pet_category'])"
   ]
  },
  {
   "cell_type": "code",
   "execution_count": 159,
   "metadata": {},
   "outputs": [],
   "source": [
    "for i in range(len(test['pet_id'])):\n",
    "    submit.loc[i,'pet_id'] = test.loc[i,'pet_id']\n",
    "    arr = ada.predict(test_breed[i:i+1])\n",
    "    submit.loc[i,'breed_category'] = arr[0]\n",
    "    ars = ad.predict(test_pet[i:i+1])\n",
    "    submit.loc[i,'pet_category'] = ars[0]"
   ]
  },
  {
   "cell_type": "code",
   "execution_count": 160,
   "metadata": {},
   "outputs": [],
   "source": [
    "submit.to_csv(\"submit4.csv\")"
   ]
  },
  {
   "cell_type": "code",
   "execution_count": 162,
   "metadata": {},
   "outputs": [],
   "source": [
    "from imblearn.over_sampling import SMOTE"
   ]
  },
  {
   "cell_type": "code",
   "execution_count": 163,
   "metadata": {},
   "outputs": [],
   "source": [
    "sm = SMOTE(random_state=12)"
   ]
  },
  {
   "cell_type": "code",
   "execution_count": 165,
   "metadata": {},
   "outputs": [],
   "source": [
    "X_train = data_pet.drop(['breed_category','pet_category'],axis=1)\n",
    "Y_train = data_pet['pet_category']"
   ]
  },
  {
   "cell_type": "code",
   "execution_count": 184,
   "metadata": {},
   "outputs": [
    {
     "ename": "AttributeError",
     "evalue": "'SMOTE' object has no attribute '_validate_data'",
     "output_type": "error",
     "traceback": [
      "\u001b[1;31m---------------------------------------------------------------------------\u001b[0m",
      "\u001b[1;31mAttributeError\u001b[0m                            Traceback (most recent call last)",
      "\u001b[1;32m<ipython-input-184-b1860ba4a8ce>\u001b[0m in \u001b[0;36m<module>\u001b[1;34m\u001b[0m\n\u001b[1;32m----> 1\u001b[1;33m \u001b[0mx_train_res\u001b[0m\u001b[1;33m,\u001b[0m \u001b[0my_train_res\u001b[0m \u001b[1;33m=\u001b[0m \u001b[0msm\u001b[0m\u001b[1;33m.\u001b[0m\u001b[0mfit_sample\u001b[0m\u001b[1;33m(\u001b[0m\u001b[0mX_train\u001b[0m\u001b[1;33m,\u001b[0m \u001b[0mY_train\u001b[0m\u001b[1;33m)\u001b[0m\u001b[1;33m\u001b[0m\u001b[1;33m\u001b[0m\u001b[0m\n\u001b[0m",
      "\u001b[1;32m~\\anaconda3\\lib\\site-packages\\imblearn\\base.py\u001b[0m in \u001b[0;36mfit_resample\u001b[1;34m(self, X, y)\u001b[0m\n\u001b[0;32m     75\u001b[0m         \u001b[0mcheck_classification_targets\u001b[0m\u001b[1;33m(\u001b[0m\u001b[0my\u001b[0m\u001b[1;33m)\u001b[0m\u001b[1;33m\u001b[0m\u001b[1;33m\u001b[0m\u001b[0m\n\u001b[0;32m     76\u001b[0m         \u001b[0marrays_transformer\u001b[0m \u001b[1;33m=\u001b[0m \u001b[0mArraysTransformer\u001b[0m\u001b[1;33m(\u001b[0m\u001b[0mX\u001b[0m\u001b[1;33m,\u001b[0m \u001b[0my\u001b[0m\u001b[1;33m)\u001b[0m\u001b[1;33m\u001b[0m\u001b[1;33m\u001b[0m\u001b[0m\n\u001b[1;32m---> 77\u001b[1;33m         \u001b[0mX\u001b[0m\u001b[1;33m,\u001b[0m \u001b[0my\u001b[0m\u001b[1;33m,\u001b[0m \u001b[0mbinarize_y\u001b[0m \u001b[1;33m=\u001b[0m \u001b[0mself\u001b[0m\u001b[1;33m.\u001b[0m\u001b[0m_check_X_y\u001b[0m\u001b[1;33m(\u001b[0m\u001b[0mX\u001b[0m\u001b[1;33m,\u001b[0m \u001b[0my\u001b[0m\u001b[1;33m)\u001b[0m\u001b[1;33m\u001b[0m\u001b[1;33m\u001b[0m\u001b[0m\n\u001b[0m\u001b[0;32m     78\u001b[0m \u001b[1;33m\u001b[0m\u001b[0m\n\u001b[0;32m     79\u001b[0m         self.sampling_strategy_ = check_sampling_strategy(\n",
      "\u001b[1;32m~\\anaconda3\\lib\\site-packages\\imblearn\\base.py\u001b[0m in \u001b[0;36m_check_X_y\u001b[1;34m(self, X, y, accept_sparse)\u001b[0m\n\u001b[0;32m    132\u001b[0m             \u001b[0maccept_sparse\u001b[0m \u001b[1;33m=\u001b[0m \u001b[1;33m[\u001b[0m\u001b[1;34m\"csr\"\u001b[0m\u001b[1;33m,\u001b[0m \u001b[1;34m\"csc\"\u001b[0m\u001b[1;33m]\u001b[0m\u001b[1;33m\u001b[0m\u001b[1;33m\u001b[0m\u001b[0m\n\u001b[0;32m    133\u001b[0m         \u001b[0my\u001b[0m\u001b[1;33m,\u001b[0m \u001b[0mbinarize_y\u001b[0m \u001b[1;33m=\u001b[0m \u001b[0mcheck_target_type\u001b[0m\u001b[1;33m(\u001b[0m\u001b[0my\u001b[0m\u001b[1;33m,\u001b[0m \u001b[0mindicate_one_vs_all\u001b[0m\u001b[1;33m=\u001b[0m\u001b[1;32mTrue\u001b[0m\u001b[1;33m)\u001b[0m\u001b[1;33m\u001b[0m\u001b[1;33m\u001b[0m\u001b[0m\n\u001b[1;32m--> 134\u001b[1;33m         X, y = self._validate_data(\n\u001b[0m\u001b[0;32m    135\u001b[0m             \u001b[0mX\u001b[0m\u001b[1;33m,\u001b[0m \u001b[0my\u001b[0m\u001b[1;33m,\u001b[0m \u001b[0mreset\u001b[0m\u001b[1;33m=\u001b[0m\u001b[1;32mTrue\u001b[0m\u001b[1;33m,\u001b[0m \u001b[0maccept_sparse\u001b[0m\u001b[1;33m=\u001b[0m\u001b[0maccept_sparse\u001b[0m\u001b[1;33m\u001b[0m\u001b[1;33m\u001b[0m\u001b[0m\n\u001b[0;32m    136\u001b[0m         )\n",
      "\u001b[1;31mAttributeError\u001b[0m: 'SMOTE' object has no attribute '_validate_data'"
     ]
    }
   ],
   "source": [
    "x_train_res, y_train_res = sm.fit_sample(X_train, Y_train)"
   ]
  },
  {
   "cell_type": "code",
   "execution_count": 167,
   "metadata": {},
   "outputs": [],
   "source": [
    "from sklearn.utils import resample"
   ]
  },
  {
   "cell_type": "code",
   "execution_count": 168,
   "metadata": {},
   "outputs": [
    {
     "data": {
      "text/plain": [
       "pet_category\n",
       "0       88\n",
       "1     7184\n",
       "2    10621\n",
       "4      941\n",
       "Name: condition, dtype: int64"
      ]
     },
     "execution_count": 168,
     "metadata": {},
     "output_type": "execute_result"
    }
   ],
   "source": [
    "data_pet.groupby('pet_category').count()['condition']"
   ]
  },
  {
   "cell_type": "code",
   "execution_count": 174,
   "metadata": {},
   "outputs": [],
   "source": [
    "minority_upsampled = resample(data_pet, \n",
    "                                 replace=True,     \n",
    "                                 n_samples=9000,    \n",
    "                                 random_state=12) "
   ]
  },
  {
   "cell_type": "code",
   "execution_count": 175,
   "metadata": {},
   "outputs": [
    {
     "data": {
      "text/plain": [
       "pet_category\n",
       "0      41\n",
       "1    3498\n",
       "2    5013\n",
       "4     448\n",
       "Name: condition, dtype: int64"
      ]
     },
     "execution_count": 175,
     "metadata": {},
     "output_type": "execute_result"
    }
   ],
   "source": [
    "minority_upsampled.groupby('pet_category').count()['condition']"
   ]
  },
  {
   "cell_type": "code",
   "execution_count": 171,
   "metadata": {},
   "outputs": [
    {
     "data": {
      "text/plain": [
       "(8072, 71)"
      ]
     },
     "execution_count": 171,
     "metadata": {},
     "output_type": "execute_result"
    }
   ],
   "source": [
    "test_pet.shape"
   ]
  },
  {
   "cell_type": "code",
   "execution_count": 185,
   "metadata": {},
   "outputs": [
    {
     "data": {
      "text/plain": [
       "(18834, 73)"
      ]
     },
     "execution_count": 185,
     "metadata": {},
     "output_type": "execute_result"
    }
   ],
   "source": [
    "data_pet.shape"
   ]
  },
  {
   "cell_type": "code",
   "execution_count": 186,
   "metadata": {},
   "outputs": [],
   "source": [
    "data_pet_minor = data_pet[data_pet['pet_category'] != 2]"
   ]
  },
  {
   "cell_type": "code",
   "execution_count": 187,
   "metadata": {},
   "outputs": [],
   "source": [
    "data_pet_minor = data_pet_minor[data_pet_minor['pet_category'] != 1]"
   ]
  },
  {
   "cell_type": "code",
   "execution_count": 188,
   "metadata": {},
   "outputs": [
    {
     "data": {
      "text/plain": [
       "pet_category\n",
       "0     88\n",
       "4    941\n",
       "Name: condition, dtype: int64"
      ]
     },
     "execution_count": 188,
     "metadata": {},
     "output_type": "execute_result"
    }
   ],
   "source": [
    "data_pet_minor.groupby('pet_category').count()['condition']"
   ]
  },
  {
   "cell_type": "code",
   "execution_count": 189,
   "metadata": {},
   "outputs": [],
   "source": [
    "data_pet_major = data_pet[data_pet['pet_category'] != 4]"
   ]
  },
  {
   "cell_type": "code",
   "execution_count": 190,
   "metadata": {},
   "outputs": [],
   "source": [
    "data_pet_major = data_pet_major[data_pet_major['pet_category'] != 0]"
   ]
  },
  {
   "cell_type": "code",
   "execution_count": 191,
   "metadata": {},
   "outputs": [
    {
     "data": {
      "text/plain": [
       "pet_category\n",
       "1     7184\n",
       "2    10621\n",
       "Name: condition, dtype: int64"
      ]
     },
     "execution_count": 191,
     "metadata": {},
     "output_type": "execute_result"
    }
   ],
   "source": [
    "data_pet_major.groupby('pet_category').count()['condition']"
   ]
  },
  {
   "cell_type": "code",
   "execution_count": 192,
   "metadata": {},
   "outputs": [
    {
     "data": {
      "text/html": [
       "<div>\n",
       "<style scoped>\n",
       "    .dataframe tbody tr th:only-of-type {\n",
       "        vertical-align: middle;\n",
       "    }\n",
       "\n",
       "    .dataframe tbody tr th {\n",
       "        vertical-align: top;\n",
       "    }\n",
       "\n",
       "    .dataframe thead th {\n",
       "        text-align: right;\n",
       "    }\n",
       "</style>\n",
       "<table border=\"1\" class=\"dataframe\">\n",
       "  <thead>\n",
       "    <tr style=\"text-align: right;\">\n",
       "      <th></th>\n",
       "      <th>condition</th>\n",
       "      <th>length(m)</th>\n",
       "      <th>height(cm)</th>\n",
       "      <th>X2</th>\n",
       "      <th>breed_category</th>\n",
       "      <th>pet_category</th>\n",
       "      <th>issue_month</th>\n",
       "      <th>issue_year</th>\n",
       "      <th>listing_month</th>\n",
       "      <th>listing_year</th>\n",
       "      <th>...</th>\n",
       "      <th>Tan</th>\n",
       "      <th>Torbie</th>\n",
       "      <th>Tortie</th>\n",
       "      <th>Tortie Point</th>\n",
       "      <th>Tricolor</th>\n",
       "      <th>White</th>\n",
       "      <th>Yellow</th>\n",
       "      <th>Yellow Brindle</th>\n",
       "      <th>Colm1</th>\n",
       "      <th>ratio</th>\n",
       "    </tr>\n",
       "  </thead>\n",
       "  <tbody>\n",
       "    <tr>\n",
       "      <th>0</th>\n",
       "      <td>2.0</td>\n",
       "      <td>0.80</td>\n",
       "      <td>7.78</td>\n",
       "      <td>9</td>\n",
       "      <td>0.0</td>\n",
       "      <td>1</td>\n",
       "      <td>7</td>\n",
       "      <td>2016</td>\n",
       "      <td>9</td>\n",
       "      <td>2016</td>\n",
       "      <td>...</td>\n",
       "      <td>0</td>\n",
       "      <td>0</td>\n",
       "      <td>0</td>\n",
       "      <td>0</td>\n",
       "      <td>0</td>\n",
       "      <td>0</td>\n",
       "      <td>0</td>\n",
       "      <td>0</td>\n",
       "      <td>484</td>\n",
       "      <td>1.832942</td>\n",
       "    </tr>\n",
       "    <tr>\n",
       "      <th>1</th>\n",
       "      <td>1.0</td>\n",
       "      <td>0.72</td>\n",
       "      <td>14.19</td>\n",
       "      <td>9</td>\n",
       "      <td>0.0</td>\n",
       "      <td>2</td>\n",
       "      <td>11</td>\n",
       "      <td>2013</td>\n",
       "      <td>12</td>\n",
       "      <td>2018</td>\n",
       "      <td>...</td>\n",
       "      <td>0</td>\n",
       "      <td>0</td>\n",
       "      <td>0</td>\n",
       "      <td>0</td>\n",
       "      <td>0</td>\n",
       "      <td>1</td>\n",
       "      <td>0</td>\n",
       "      <td>0</td>\n",
       "      <td>484</td>\n",
       "      <td>1.525426</td>\n",
       "    </tr>\n",
       "    <tr>\n",
       "      <th>3</th>\n",
       "      <td>1.0</td>\n",
       "      <td>0.62</td>\n",
       "      <td>17.82</td>\n",
       "      <td>1</td>\n",
       "      <td>0.0</td>\n",
       "      <td>2</td>\n",
       "      <td>12</td>\n",
       "      <td>2016</td>\n",
       "      <td>1</td>\n",
       "      <td>2019</td>\n",
       "      <td>...</td>\n",
       "      <td>0</td>\n",
       "      <td>0</td>\n",
       "      <td>0</td>\n",
       "      <td>0</td>\n",
       "      <td>0</td>\n",
       "      <td>1</td>\n",
       "      <td>0</td>\n",
       "      <td>0</td>\n",
       "      <td>1</td>\n",
       "      <td>1.382884</td>\n",
       "    </tr>\n",
       "    <tr>\n",
       "      <th>4</th>\n",
       "      <td>2.0</td>\n",
       "      <td>0.50</td>\n",
       "      <td>11.06</td>\n",
       "      <td>4</td>\n",
       "      <td>0.0</td>\n",
       "      <td>1</td>\n",
       "      <td>9</td>\n",
       "      <td>2017</td>\n",
       "      <td>11</td>\n",
       "      <td>2017</td>\n",
       "      <td>...</td>\n",
       "      <td>0</td>\n",
       "      <td>0</td>\n",
       "      <td>0</td>\n",
       "      <td>0</td>\n",
       "      <td>0</td>\n",
       "      <td>0</td>\n",
       "      <td>0</td>\n",
       "      <td>0</td>\n",
       "      <td>484</td>\n",
       "      <td>1.480321</td>\n",
       "    </tr>\n",
       "    <tr>\n",
       "      <th>5</th>\n",
       "      <td>0.0</td>\n",
       "      <td>0.92</td>\n",
       "      <td>29.56</td>\n",
       "      <td>7</td>\n",
       "      <td>1.0</td>\n",
       "      <td>2</td>\n",
       "      <td>10</td>\n",
       "      <td>2017</td>\n",
       "      <td>3</td>\n",
       "      <td>2019</td>\n",
       "      <td>...</td>\n",
       "      <td>0</td>\n",
       "      <td>0</td>\n",
       "      <td>0</td>\n",
       "      <td>0</td>\n",
       "      <td>0</td>\n",
       "      <td>0</td>\n",
       "      <td>0</td>\n",
       "      <td>0</td>\n",
       "      <td>49</td>\n",
       "      <td>1.343389</td>\n",
       "    </tr>\n",
       "  </tbody>\n",
       "</table>\n",
       "<p>5 rows × 73 columns</p>\n",
       "</div>"
      ],
      "text/plain": [
       "   condition  length(m)  height(cm)  X2  breed_category  pet_category  \\\n",
       "0        2.0       0.80        7.78   9             0.0             1   \n",
       "1        1.0       0.72       14.19   9             0.0             2   \n",
       "3        1.0       0.62       17.82   1             0.0             2   \n",
       "4        2.0       0.50       11.06   4             0.0             1   \n",
       "5        0.0       0.92       29.56   7             1.0             2   \n",
       "\n",
       "   issue_month  issue_year  listing_month  listing_year  ...  Tan  Torbie  \\\n",
       "0            7        2016              9          2016  ...    0       0   \n",
       "1           11        2013             12          2018  ...    0       0   \n",
       "3           12        2016              1          2019  ...    0       0   \n",
       "4            9        2017             11          2017  ...    0       0   \n",
       "5           10        2017              3          2019  ...    0       0   \n",
       "\n",
       "   Tortie  Tortie Point  Tricolor  White  Yellow  Yellow Brindle  Colm1  \\\n",
       "0       0             0         0      0       0               0    484   \n",
       "1       0             0         0      1       0               0    484   \n",
       "3       0             0         0      1       0               0      1   \n",
       "4       0             0         0      0       0               0    484   \n",
       "5       0             0         0      0       0               0     49   \n",
       "\n",
       "      ratio  \n",
       "0  1.832942  \n",
       "1  1.525426  \n",
       "3  1.382884  \n",
       "4  1.480321  \n",
       "5  1.343389  \n",
       "\n",
       "[5 rows x 73 columns]"
      ]
     },
     "execution_count": 192,
     "metadata": {},
     "output_type": "execute_result"
    }
   ],
   "source": [
    "data_pet_major.head()"
   ]
  },
  {
   "cell_type": "code",
   "execution_count": 194,
   "metadata": {},
   "outputs": [
    {
     "data": {
      "text/html": [
       "<div>\n",
       "<style scoped>\n",
       "    .dataframe tbody tr th:only-of-type {\n",
       "        vertical-align: middle;\n",
       "    }\n",
       "\n",
       "    .dataframe tbody tr th {\n",
       "        vertical-align: top;\n",
       "    }\n",
       "\n",
       "    .dataframe thead th {\n",
       "        text-align: right;\n",
       "    }\n",
       "</style>\n",
       "<table border=\"1\" class=\"dataframe\">\n",
       "  <thead>\n",
       "    <tr style=\"text-align: right;\">\n",
       "      <th></th>\n",
       "      <th>condition</th>\n",
       "      <th>length(m)</th>\n",
       "      <th>height(cm)</th>\n",
       "      <th>X2</th>\n",
       "      <th>breed_category</th>\n",
       "      <th>pet_category</th>\n",
       "      <th>issue_month</th>\n",
       "      <th>issue_year</th>\n",
       "      <th>listing_month</th>\n",
       "      <th>listing_year</th>\n",
       "      <th>...</th>\n",
       "      <th>Tan</th>\n",
       "      <th>Torbie</th>\n",
       "      <th>Tortie</th>\n",
       "      <th>Tortie Point</th>\n",
       "      <th>Tricolor</th>\n",
       "      <th>White</th>\n",
       "      <th>Yellow</th>\n",
       "      <th>Yellow Brindle</th>\n",
       "      <th>Colm1</th>\n",
       "      <th>ratio</th>\n",
       "    </tr>\n",
       "  </thead>\n",
       "  <tbody>\n",
       "    <tr>\n",
       "      <th>0</th>\n",
       "      <td>2.0</td>\n",
       "      <td>0.80</td>\n",
       "      <td>7.78</td>\n",
       "      <td>9</td>\n",
       "      <td>0.0</td>\n",
       "      <td>1</td>\n",
       "      <td>7</td>\n",
       "      <td>2016</td>\n",
       "      <td>9</td>\n",
       "      <td>2016</td>\n",
       "      <td>...</td>\n",
       "      <td>0</td>\n",
       "      <td>0</td>\n",
       "      <td>0</td>\n",
       "      <td>0</td>\n",
       "      <td>0</td>\n",
       "      <td>0</td>\n",
       "      <td>0</td>\n",
       "      <td>0</td>\n",
       "      <td>484</td>\n",
       "      <td>1.832942</td>\n",
       "    </tr>\n",
       "    <tr>\n",
       "      <th>1</th>\n",
       "      <td>1.0</td>\n",
       "      <td>0.72</td>\n",
       "      <td>14.19</td>\n",
       "      <td>9</td>\n",
       "      <td>0.0</td>\n",
       "      <td>2</td>\n",
       "      <td>11</td>\n",
       "      <td>2013</td>\n",
       "      <td>12</td>\n",
       "      <td>2018</td>\n",
       "      <td>...</td>\n",
       "      <td>0</td>\n",
       "      <td>0</td>\n",
       "      <td>0</td>\n",
       "      <td>0</td>\n",
       "      <td>0</td>\n",
       "      <td>1</td>\n",
       "      <td>0</td>\n",
       "      <td>0</td>\n",
       "      <td>484</td>\n",
       "      <td>1.525426</td>\n",
       "    </tr>\n",
       "    <tr>\n",
       "      <th>3</th>\n",
       "      <td>1.0</td>\n",
       "      <td>0.62</td>\n",
       "      <td>17.82</td>\n",
       "      <td>1</td>\n",
       "      <td>0.0</td>\n",
       "      <td>2</td>\n",
       "      <td>12</td>\n",
       "      <td>2016</td>\n",
       "      <td>1</td>\n",
       "      <td>2019</td>\n",
       "      <td>...</td>\n",
       "      <td>0</td>\n",
       "      <td>0</td>\n",
       "      <td>0</td>\n",
       "      <td>0</td>\n",
       "      <td>0</td>\n",
       "      <td>1</td>\n",
       "      <td>0</td>\n",
       "      <td>0</td>\n",
       "      <td>1</td>\n",
       "      <td>1.382884</td>\n",
       "    </tr>\n",
       "    <tr>\n",
       "      <th>4</th>\n",
       "      <td>2.0</td>\n",
       "      <td>0.50</td>\n",
       "      <td>11.06</td>\n",
       "      <td>4</td>\n",
       "      <td>0.0</td>\n",
       "      <td>1</td>\n",
       "      <td>9</td>\n",
       "      <td>2017</td>\n",
       "      <td>11</td>\n",
       "      <td>2017</td>\n",
       "      <td>...</td>\n",
       "      <td>0</td>\n",
       "      <td>0</td>\n",
       "      <td>0</td>\n",
       "      <td>0</td>\n",
       "      <td>0</td>\n",
       "      <td>0</td>\n",
       "      <td>0</td>\n",
       "      <td>0</td>\n",
       "      <td>484</td>\n",
       "      <td>1.480321</td>\n",
       "    </tr>\n",
       "    <tr>\n",
       "      <th>5</th>\n",
       "      <td>0.0</td>\n",
       "      <td>0.92</td>\n",
       "      <td>29.56</td>\n",
       "      <td>7</td>\n",
       "      <td>1.0</td>\n",
       "      <td>2</td>\n",
       "      <td>10</td>\n",
       "      <td>2017</td>\n",
       "      <td>3</td>\n",
       "      <td>2019</td>\n",
       "      <td>...</td>\n",
       "      <td>0</td>\n",
       "      <td>0</td>\n",
       "      <td>0</td>\n",
       "      <td>0</td>\n",
       "      <td>0</td>\n",
       "      <td>0</td>\n",
       "      <td>0</td>\n",
       "      <td>0</td>\n",
       "      <td>49</td>\n",
       "      <td>1.343389</td>\n",
       "    </tr>\n",
       "    <tr>\n",
       "      <th>...</th>\n",
       "      <td>...</td>\n",
       "      <td>...</td>\n",
       "      <td>...</td>\n",
       "      <td>...</td>\n",
       "      <td>...</td>\n",
       "      <td>...</td>\n",
       "      <td>...</td>\n",
       "      <td>...</td>\n",
       "      <td>...</td>\n",
       "      <td>...</td>\n",
       "      <td>...</td>\n",
       "      <td>...</td>\n",
       "      <td>...</td>\n",
       "      <td>...</td>\n",
       "      <td>...</td>\n",
       "      <td>...</td>\n",
       "      <td>...</td>\n",
       "      <td>...</td>\n",
       "      <td>...</td>\n",
       "      <td>...</td>\n",
       "      <td>...</td>\n",
       "    </tr>\n",
       "    <tr>\n",
       "      <th>18741</th>\n",
       "      <td>0.0</td>\n",
       "      <td>0.27</td>\n",
       "      <td>19.47</td>\n",
       "      <td>4</td>\n",
       "      <td>2.0</td>\n",
       "      <td>4</td>\n",
       "      <td>5</td>\n",
       "      <td>2016</td>\n",
       "      <td>6</td>\n",
       "      <td>2018</td>\n",
       "      <td>...</td>\n",
       "      <td>0</td>\n",
       "      <td>0</td>\n",
       "      <td>0</td>\n",
       "      <td>0</td>\n",
       "      <td>0</td>\n",
       "      <td>0</td>\n",
       "      <td>0</td>\n",
       "      <td>0</td>\n",
       "      <td>361</td>\n",
       "      <td>1.088728</td>\n",
       "    </tr>\n",
       "    <tr>\n",
       "      <th>18759</th>\n",
       "      <td>2.0</td>\n",
       "      <td>0.81</td>\n",
       "      <td>26.32</td>\n",
       "      <td>4</td>\n",
       "      <td>2.0</td>\n",
       "      <td>4</td>\n",
       "      <td>2</td>\n",
       "      <td>2018</td>\n",
       "      <td>3</td>\n",
       "      <td>2019</td>\n",
       "      <td>...</td>\n",
       "      <td>0</td>\n",
       "      <td>0</td>\n",
       "      <td>0</td>\n",
       "      <td>0</td>\n",
       "      <td>0</td>\n",
       "      <td>0</td>\n",
       "      <td>0</td>\n",
       "      <td>0</td>\n",
       "      <td>361</td>\n",
       "      <td>1.339466</td>\n",
       "    </tr>\n",
       "    <tr>\n",
       "      <th>18771</th>\n",
       "      <td>2.0</td>\n",
       "      <td>0.11</td>\n",
       "      <td>47.40</td>\n",
       "      <td>4</td>\n",
       "      <td>0.0</td>\n",
       "      <td>4</td>\n",
       "      <td>7</td>\n",
       "      <td>2015</td>\n",
       "      <td>7</td>\n",
       "      <td>2016</td>\n",
       "      <td>...</td>\n",
       "      <td>0</td>\n",
       "      <td>0</td>\n",
       "      <td>0</td>\n",
       "      <td>0</td>\n",
       "      <td>0</td>\n",
       "      <td>0</td>\n",
       "      <td>0</td>\n",
       "      <td>0</td>\n",
       "      <td>361</td>\n",
       "      <td>0.684006</td>\n",
       "    </tr>\n",
       "    <tr>\n",
       "      <th>18812</th>\n",
       "      <td>1.0</td>\n",
       "      <td>0.58</td>\n",
       "      <td>40.07</td>\n",
       "      <td>4</td>\n",
       "      <td>2.0</td>\n",
       "      <td>4</td>\n",
       "      <td>10</td>\n",
       "      <td>2014</td>\n",
       "      <td>11</td>\n",
       "      <td>2016</td>\n",
       "      <td>...</td>\n",
       "      <td>0</td>\n",
       "      <td>0</td>\n",
       "      <td>0</td>\n",
       "      <td>0</td>\n",
       "      <td>0</td>\n",
       "      <td>0</td>\n",
       "      <td>0</td>\n",
       "      <td>0</td>\n",
       "      <td>361</td>\n",
       "      <td>1.100926</td>\n",
       "    </tr>\n",
       "    <tr>\n",
       "      <th>18830</th>\n",
       "      <td>2.0</td>\n",
       "      <td>0.73</td>\n",
       "      <td>14.25</td>\n",
       "      <td>4</td>\n",
       "      <td>2.0</td>\n",
       "      <td>4</td>\n",
       "      <td>6</td>\n",
       "      <td>2016</td>\n",
       "      <td>7</td>\n",
       "      <td>2017</td>\n",
       "      <td>...</td>\n",
       "      <td>0</td>\n",
       "      <td>0</td>\n",
       "      <td>0</td>\n",
       "      <td>0</td>\n",
       "      <td>0</td>\n",
       "      <td>0</td>\n",
       "      <td>0</td>\n",
       "      <td>0</td>\n",
       "      <td>361</td>\n",
       "      <td>1.529227</td>\n",
       "    </tr>\n",
       "  </tbody>\n",
       "</table>\n",
       "<p>3029 rows × 73 columns</p>\n",
       "</div>"
      ],
      "text/plain": [
       "       condition  length(m)  height(cm)  X2  breed_category  pet_category  \\\n",
       "0            2.0       0.80        7.78   9             0.0             1   \n",
       "1            1.0       0.72       14.19   9             0.0             2   \n",
       "3            1.0       0.62       17.82   1             0.0             2   \n",
       "4            2.0       0.50       11.06   4             0.0             1   \n",
       "5            0.0       0.92       29.56   7             1.0             2   \n",
       "...          ...        ...         ...  ..             ...           ...   \n",
       "18741        0.0       0.27       19.47   4             2.0             4   \n",
       "18759        2.0       0.81       26.32   4             2.0             4   \n",
       "18771        2.0       0.11       47.40   4             0.0             4   \n",
       "18812        1.0       0.58       40.07   4             2.0             4   \n",
       "18830        2.0       0.73       14.25   4             2.0             4   \n",
       "\n",
       "       issue_month  issue_year  listing_month  listing_year  ...  Tan  Torbie  \\\n",
       "0                7        2016              9          2016  ...    0       0   \n",
       "1               11        2013             12          2018  ...    0       0   \n",
       "3               12        2016              1          2019  ...    0       0   \n",
       "4                9        2017             11          2017  ...    0       0   \n",
       "5               10        2017              3          2019  ...    0       0   \n",
       "...            ...         ...            ...           ...  ...  ...     ...   \n",
       "18741            5        2016              6          2018  ...    0       0   \n",
       "18759            2        2018              3          2019  ...    0       0   \n",
       "18771            7        2015              7          2016  ...    0       0   \n",
       "18812           10        2014             11          2016  ...    0       0   \n",
       "18830            6        2016              7          2017  ...    0       0   \n",
       "\n",
       "       Tortie  Tortie Point  Tricolor  White  Yellow  Yellow Brindle  Colm1  \\\n",
       "0           0             0         0      0       0               0    484   \n",
       "1           0             0         0      1       0               0    484   \n",
       "3           0             0         0      1       0               0      1   \n",
       "4           0             0         0      0       0               0    484   \n",
       "5           0             0         0      0       0               0     49   \n",
       "...       ...           ...       ...    ...     ...             ...    ...   \n",
       "18741       0             0         0      0       0               0    361   \n",
       "18759       0             0         0      0       0               0    361   \n",
       "18771       0             0         0      0       0               0    361   \n",
       "18812       0             0         0      0       0               0    361   \n",
       "18830       0             0         0      0       0               0    361   \n",
       "\n",
       "          ratio  \n",
       "0      1.832942  \n",
       "1      1.525426  \n",
       "3      1.382884  \n",
       "4      1.480321  \n",
       "5      1.343389  \n",
       "...         ...  \n",
       "18741  1.088728  \n",
       "18759  1.339466  \n",
       "18771  0.684006  \n",
       "18812  1.100926  \n",
       "18830  1.529227  \n",
       "\n",
       "[3029 rows x 73 columns]"
      ]
     },
     "execution_count": 194,
     "metadata": {},
     "output_type": "execute_result"
    }
   ],
   "source": [
    "pd.concat([data_pet_major[:2000],data_pet_minor])"
   ]
  },
  {
   "cell_type": "code",
   "execution_count": 200,
   "metadata": {},
   "outputs": [],
   "source": [
    "from xgboost import XGBClassifier"
   ]
  },
  {
   "cell_type": "code",
   "execution_count": 201,
   "metadata": {},
   "outputs": [
    {
     "data": {
      "text/plain": [
       "XGBClassifier(base_score=0.5, booster='gbtree', colsample_bylevel=1,\n",
       "              colsample_bynode=1, colsample_bytree=1, gamma=0,\n",
       "              learning_rate=0.1, max_delta_step=0, max_depth=3,\n",
       "              min_child_weight=1, missing=None, n_estimators=100, n_jobs=1,\n",
       "              nthread=None, objective='multi:softprob', random_state=0,\n",
       "              reg_alpha=0, reg_lambda=1, scale_pos_weight=1, seed=None,\n",
       "              silent=None, subsample=1, verbosity=1)"
      ]
     },
     "execution_count": 201,
     "metadata": {},
     "output_type": "execute_result"
    }
   ],
   "source": [
    "xgb1 = XGBClassifier()\n",
    "xgb1.fit(data_breed.drop(['breed_category','pet_category'],axis=1),data_breed['breed_category'])"
   ]
  },
  {
   "cell_type": "code",
   "execution_count": 202,
   "metadata": {},
   "outputs": [
    {
     "data": {
      "text/plain": [
       "XGBClassifier(base_score=0.5, booster='gbtree', colsample_bylevel=1,\n",
       "              colsample_bynode=1, colsample_bytree=1, gamma=0,\n",
       "              learning_rate=0.1, max_delta_step=0, max_depth=3,\n",
       "              min_child_weight=1, missing=None, n_estimators=100, n_jobs=1,\n",
       "              nthread=None, objective='multi:softprob', random_state=0,\n",
       "              reg_alpha=0, reg_lambda=1, scale_pos_weight=1, seed=None,\n",
       "              silent=None, subsample=1, verbosity=1)"
      ]
     },
     "execution_count": 202,
     "metadata": {},
     "output_type": "execute_result"
    }
   ],
   "source": [
    "xgb2 = XGBClassifier()\n",
    "xgb2.fit(data_pet.drop(['breed_category','pet_category'],axis=1),data_pet['pet_category'])"
   ]
  },
  {
   "cell_type": "code",
   "execution_count": 214,
   "metadata": {},
   "outputs": [],
   "source": [
    "for i in range(len(test['pet_id'])):\n",
    "    #submit.loc[i,'pet_id'] = test.loc[i,'pet_id']\n",
    "    arr = xgb1.predict(test_breed[i:i+1])\n",
    "    submit.loc[i,'breed_category'] = arr[0]\n",
    "    ars = xgb2.predict(test_pet[i:i+1])\n",
    "    submit.loc[i,'pet_category'] = ars[0]"
   ]
  },
  {
   "cell_type": "code",
   "execution_count": 215,
   "metadata": {},
   "outputs": [],
   "source": [
    "submit.to_csv(\"submit5.csv\")"
   ]
  },
  {
   "cell_type": "code",
   "execution_count": null,
   "metadata": {},
   "outputs": [],
   "source": []
  },
  {
   "cell_type": "code",
   "execution_count": 195,
   "metadata": {},
   "outputs": [],
   "source": [
    "from sklearn.model_selection import StratifiedKFold"
   ]
  },
  {
   "cell_type": "code",
   "execution_count": 229,
   "metadata": {},
   "outputs": [],
   "source": [
    "from sklearn.ensemble import BaggingClassifier"
   ]
  },
  {
   "cell_type": "code",
   "execution_count": 270,
   "metadata": {},
   "outputs": [],
   "source": [
    "model1 = XGBClassifier()\n",
    "model2 = GradientBoostingClassifier()\n",
    "model3 = RandomForestClassifier()\n",
    "model4 = GradientBoostingClassifier()\n"
   ]
  },
  {
   "cell_type": "code",
   "execution_count": 271,
   "metadata": {},
   "outputs": [],
   "source": [
    "model5 = XGBClassifier()\n",
    "model6 = GradientBoostingClassifier()\n",
    "model7 = RandomForestClassifier()\n",
    "model8 = GradientBoostingClassifier()\n"
   ]
  },
  {
   "cell_type": "code",
   "execution_count": 272,
   "metadata": {},
   "outputs": [],
   "source": [
    "model9 = XGBClassifier()\n",
    "model10 = GradientBoostingClassifier()"
   ]
  },
  {
   "cell_type": "code",
   "execution_count": 273,
   "metadata": {},
   "outputs": [],
   "source": [
    "j = 0\n",
    "\n",
    "df = pd.concat([data_pet_major[j:j+1800],data_pet_minor])\n",
    "model1.fit(df.drop(['breed_category','pet_category'],axis=1),df['pet_category'])\n",
    "j = j+1800\n",
    "\n",
    "df = pd.concat([data_pet_major[j:j+1800],data_pet_minor])\n",
    "model2.fit(df.drop(['breed_category','pet_category'],axis=1),df['pet_category'])\n",
    "j = j+1800\n",
    "\n",
    "df = pd.concat([data_pet_major[j:j+1800],data_pet_minor])\n",
    "model3.fit(df.drop(['breed_category','pet_category'],axis=1),df['pet_category'])\n",
    "j = j+1800\n",
    "\n",
    "df = pd.concat([data_pet_major[j:j+1800],data_pet_minor])\n",
    "model4.fit(df.drop(['breed_category','pet_category'],axis=1),df['pet_category'])\n",
    "j = j+1800\n",
    "\n",
    "df = pd.concat([data_pet_major[j:j+1800],data_pet_minor])\n",
    "model5.fit(df.drop(['breed_category','pet_category'],axis=1),df['pet_category'])\n",
    "j = j+1800\n",
    "\n",
    "df = pd.concat([data_pet_major[j:j+1800],data_pet_minor])\n",
    "model6.fit(df.drop(['breed_category','pet_category'],axis=1),df['pet_category'])\n",
    "j = j+1800\n",
    "\n",
    "df = pd.concat([data_pet_major[j:j+1800],data_pet_minor])\n",
    "model7.fit(df.drop(['breed_category','pet_category'],axis=1),df['pet_category'])\n",
    "j = j+1800\n",
    "\n",
    "df = pd.concat([data_pet_major[j:j+1800],data_pet_minor])\n",
    "model8.fit(df.drop(['breed_category','pet_category'],axis=1),df['pet_category'])\n",
    "j = j+1800\n",
    "\n",
    "df = pd.concat([data_pet_major[j:j+1800],data_pet_minor])\n",
    "model9.fit(df.drop(['breed_category','pet_category'],axis=1),df['pet_category'])\n",
    "j = j+1800\n",
    "\n",
    "df = pd.concat([data_pet_major[j:j+1800],data_pet_minor])\n",
    "model10.fit(df.drop(['breed_category','pet_category'],axis=1),df['pet_category'])\n",
    "j = j+1800\n"
   ]
  },
  {
   "cell_type": "code",
   "execution_count": 274,
   "metadata": {},
   "outputs": [
    {
     "data": {
      "text/plain": [
       "GradientBoostingClassifier(ccp_alpha=0.0, criterion='friedman_mse', init=None,\n",
       "                           learning_rate=0.1, loss='deviance', max_depth=3,\n",
       "                           max_features=None, max_leaf_nodes=None,\n",
       "                           min_impurity_decrease=0.0, min_impurity_split=None,\n",
       "                           min_samples_leaf=1, min_samples_split=2,\n",
       "                           min_weight_fraction_leaf=0.0, n_estimators=100,\n",
       "                           n_iter_no_change=None, presort='deprecated',\n",
       "                           random_state=None, subsample=1.0, tol=0.0001,\n",
       "                           validation_fraction=0.1, verbose=0,\n",
       "                           warm_start=False)"
      ]
     },
     "execution_count": 274,
     "metadata": {},
     "output_type": "execute_result"
    }
   ],
   "source": [
    "model4"
   ]
  },
  {
   "cell_type": "code",
   "execution_count": 261,
   "metadata": {},
   "outputs": [],
   "source": [
    "def getmode(inplist):\n",
    "    '''with list of items as input, returns mode\n",
    "    '''\n",
    "    dictofcounts = {}\n",
    "    listofcounts = []\n",
    "    for i in inplist:\n",
    "        countofi = inplist.count(i) # count items for each item in list\n",
    "        listofcounts.append(countofi) # add counts to list\n",
    "        dictofcounts[i]=countofi # add counts and item in dict to get later\n",
    "    maxcount = max(listofcounts) # get max count of items\n",
    "    if maxcount ==1:\n",
    "        return 0 ;\n",
    "    else :\n",
    "        modelist = [] # if more than one mode, add to list to print out\n",
    "        for key, item in dictofcounts.items():\n",
    "            if item ==maxcount: # get item from original list with most counts\n",
    "                modelist.append(str(key))\n",
    "        return modelist "
   ]
  },
  {
   "cell_type": "code",
   "execution_count": 276,
   "metadata": {},
   "outputs": [],
   "source": [
    "for i in range(len(test['pet_id'])):\n",
    "    ars = [model1.predict(test_pet[i:i+1])[0],model2.predict(test_pet[i:i+1])[0],model3.predict(test_pet[i:i+1])[0],model4.predict(test_pet[i:i+1])[0],model5.predict(test_pet[i:i+1])[0],model6.predict(test_pet[i:i+1])[0],model7.predict(test_pet[i:i+1])[0],model8.predict(test_pet[i:i+1])[0],model9.predict(test_pet[i:i+1])[0],model10.predict(test_pet[i:i+1])[0]]\n",
    "    submit.loc[i,'pet_category'] = max(getmode(ars))"
   ]
  },
  {
   "cell_type": "code",
   "execution_count": 277,
   "metadata": {},
   "outputs": [],
   "source": [
    "submit.to_csv(\"submit7.csv\")"
   ]
  },
  {
   "cell_type": "code",
   "execution_count": null,
   "metadata": {},
   "outputs": [],
   "source": []
  }
 ],
 "metadata": {
  "kernelspec": {
   "display_name": "Python 3",
   "language": "python",
   "name": "python3"
  },
  "language_info": {
   "codemirror_mode": {
    "name": "ipython",
    "version": 3
   },
   "file_extension": ".py",
   "mimetype": "text/x-python",
   "name": "python",
   "nbconvert_exporter": "python",
   "pygments_lexer": "ipython3",
   "version": "3.7.6"
  }
 },
 "nbformat": 4,
 "nbformat_minor": 4
}
